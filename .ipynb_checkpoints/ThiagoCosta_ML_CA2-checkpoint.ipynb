{
 "cells": [
  {
   "cell_type": "markdown",
   "id": "be537e01-c028-4dc6-b59e-205b4a6440b4",
   "metadata": {},
   "source": [
    "# Name: Thiago de Oliveira da Costa StId: 2020005"
   ]
  },
  {
   "cell_type": "markdown",
   "id": "16152b3f-ccff-42dc-b0e5-b64388706289",
   "metadata": {},
   "source": [
    "### GitHub: https://github.com/ThBrasilDaCosta/CA2-ML-Neural-Semantic"
   ]
  },
  {
   "cell_type": "markdown",
   "id": "7f18fb73-6876-42aa-8af5-c76bc96a347b",
   "metadata": {},
   "source": [
    "### Project: ML - Neural Networks & Semantic Analysis"
   ]
  },
  {
   "cell_type": "markdown",
   "id": "37f9eb21-1914-4b0f-a374-694cc99a5dfc",
   "metadata": {},
   "source": [
    "#### NEURAL NETWORKS"
   ]
  },
  {
   "cell_type": "markdown",
   "id": "3c5c9df0-5899-4fcf-8387-48ea7db9492b",
   "metadata": {},
   "source": [
    "#### Importing necessary start libraries:"
   ]
  },
  {
   "cell_type": "code",
   "execution_count": 1,
   "id": "ee9b1f6d-1be8-40f5-8a6b-ca65ce0550da",
   "metadata": {},
   "outputs": [],
   "source": [
    "import pandas as pd\n",
    "import numpy as np\n",
    "import matplotlib.pyplot as plt\n",
    "import seaborn as sns"
   ]
  },
  {
   "cell_type": "markdown",
   "id": "6e33fc95-1f7e-4434-a16c-c81df1be1b9c",
   "metadata": {},
   "source": [
    "#### Loading CSV file:"
   ]
  },
  {
   "cell_type": "code",
   "execution_count": 2,
   "id": "f27d4983-765f-45e2-8f20-ab6ed33ed8f5",
   "metadata": {},
   "outputs": [],
   "source": [
    "bank_records = pd.read_csv('BankRecords.csv')"
   ]
  },
  {
   "cell_type": "markdown",
   "id": "7e8202c6-82a5-4d7f-b3a0-9fe1ec6d714a",
   "metadata": {},
   "source": [
    "#### Data Understanding:"
   ]
  },
  {
   "cell_type": "code",
   "execution_count": 3,
   "id": "dcedea12-5387-4392-a7ea-58851ff75384",
   "metadata": {},
   "outputs": [
    {
     "data": {
      "text/plain": [
       "(5000, 14)"
      ]
     },
     "execution_count": 3,
     "metadata": {},
     "output_type": "execute_result"
    }
   ],
   "source": [
    "bank_records.shape"
   ]
  },
  {
   "cell_type": "code",
   "execution_count": 4,
   "id": "92329de4-fc8d-431c-a547-9e6f22b50611",
   "metadata": {},
   "outputs": [
    {
     "data": {
      "text/plain": [
       "ID                         int64\n",
       "Age                        int64\n",
       "Experience(Years)          int64\n",
       "Income(Thousands's)        int64\n",
       "Sort Code                  int64\n",
       "Family                     int64\n",
       "Credit Score             float64\n",
       "Education                 object\n",
       "Mortgage(Thousands's)      int64\n",
       "Personal Loan             object\n",
       "Securities Account        object\n",
       "CD Account                object\n",
       "Online Banking            object\n",
       "CreditCard                object\n",
       "dtype: object"
      ]
     },
     "execution_count": 4,
     "metadata": {},
     "output_type": "execute_result"
    }
   ],
   "source": [
    "bank_records.dtypes"
   ]
  },
  {
   "cell_type": "code",
   "execution_count": 5,
   "id": "c445ae95-bdce-426d-88c3-b0005ff47ef9",
   "metadata": {},
   "outputs": [
    {
     "data": {
      "text/html": [
       "<div>\n",
       "<style scoped>\n",
       "    .dataframe tbody tr th:only-of-type {\n",
       "        vertical-align: middle;\n",
       "    }\n",
       "\n",
       "    .dataframe tbody tr th {\n",
       "        vertical-align: top;\n",
       "    }\n",
       "\n",
       "    .dataframe thead th {\n",
       "        text-align: right;\n",
       "    }\n",
       "</style>\n",
       "<table border=\"1\" class=\"dataframe\">\n",
       "  <thead>\n",
       "    <tr style=\"text-align: right;\">\n",
       "      <th></th>\n",
       "      <th>ID</th>\n",
       "      <th>Age</th>\n",
       "      <th>Experience(Years)</th>\n",
       "      <th>Income(Thousands's)</th>\n",
       "      <th>Sort Code</th>\n",
       "      <th>Family</th>\n",
       "      <th>Credit Score</th>\n",
       "      <th>Mortgage(Thousands's)</th>\n",
       "    </tr>\n",
       "  </thead>\n",
       "  <tbody>\n",
       "    <tr>\n",
       "      <th>count</th>\n",
       "      <td>5000.000000</td>\n",
       "      <td>5000.000000</td>\n",
       "      <td>5000.000000</td>\n",
       "      <td>5000.000000</td>\n",
       "      <td>5000.000000</td>\n",
       "      <td>5000.000000</td>\n",
       "      <td>5000.000000</td>\n",
       "      <td>5000.000000</td>\n",
       "    </tr>\n",
       "    <tr>\n",
       "      <th>mean</th>\n",
       "      <td>2500.500000</td>\n",
       "      <td>45.338400</td>\n",
       "      <td>20.104600</td>\n",
       "      <td>73.774200</td>\n",
       "      <td>93152.503000</td>\n",
       "      <td>2.396400</td>\n",
       "      <td>1.937913</td>\n",
       "      <td>56.498800</td>\n",
       "    </tr>\n",
       "    <tr>\n",
       "      <th>std</th>\n",
       "      <td>1443.520003</td>\n",
       "      <td>11.463166</td>\n",
       "      <td>11.467954</td>\n",
       "      <td>46.033729</td>\n",
       "      <td>2121.852197</td>\n",
       "      <td>1.147663</td>\n",
       "      <td>1.747666</td>\n",
       "      <td>101.713802</td>\n",
       "    </tr>\n",
       "    <tr>\n",
       "      <th>min</th>\n",
       "      <td>1.000000</td>\n",
       "      <td>23.000000</td>\n",
       "      <td>-3.000000</td>\n",
       "      <td>8.000000</td>\n",
       "      <td>9307.000000</td>\n",
       "      <td>1.000000</td>\n",
       "      <td>0.000000</td>\n",
       "      <td>0.000000</td>\n",
       "    </tr>\n",
       "    <tr>\n",
       "      <th>25%</th>\n",
       "      <td>1250.750000</td>\n",
       "      <td>35.000000</td>\n",
       "      <td>10.000000</td>\n",
       "      <td>39.000000</td>\n",
       "      <td>91911.000000</td>\n",
       "      <td>1.000000</td>\n",
       "      <td>0.700000</td>\n",
       "      <td>0.000000</td>\n",
       "    </tr>\n",
       "    <tr>\n",
       "      <th>50%</th>\n",
       "      <td>2500.500000</td>\n",
       "      <td>45.000000</td>\n",
       "      <td>20.000000</td>\n",
       "      <td>64.000000</td>\n",
       "      <td>93437.000000</td>\n",
       "      <td>2.000000</td>\n",
       "      <td>1.500000</td>\n",
       "      <td>0.000000</td>\n",
       "    </tr>\n",
       "    <tr>\n",
       "      <th>75%</th>\n",
       "      <td>3750.250000</td>\n",
       "      <td>55.000000</td>\n",
       "      <td>30.000000</td>\n",
       "      <td>98.000000</td>\n",
       "      <td>94608.000000</td>\n",
       "      <td>3.000000</td>\n",
       "      <td>2.500000</td>\n",
       "      <td>101.000000</td>\n",
       "    </tr>\n",
       "    <tr>\n",
       "      <th>max</th>\n",
       "      <td>5000.000000</td>\n",
       "      <td>67.000000</td>\n",
       "      <td>43.000000</td>\n",
       "      <td>224.000000</td>\n",
       "      <td>96651.000000</td>\n",
       "      <td>4.000000</td>\n",
       "      <td>10.000000</td>\n",
       "      <td>635.000000</td>\n",
       "    </tr>\n",
       "  </tbody>\n",
       "</table>\n",
       "</div>"
      ],
      "text/plain": [
       "                ID          Age  Experience(Years)  Income(Thousands's)  \\\n",
       "count  5000.000000  5000.000000        5000.000000          5000.000000   \n",
       "mean   2500.500000    45.338400          20.104600            73.774200   \n",
       "std    1443.520003    11.463166          11.467954            46.033729   \n",
       "min       1.000000    23.000000          -3.000000             8.000000   \n",
       "25%    1250.750000    35.000000          10.000000            39.000000   \n",
       "50%    2500.500000    45.000000          20.000000            64.000000   \n",
       "75%    3750.250000    55.000000          30.000000            98.000000   \n",
       "max    5000.000000    67.000000          43.000000           224.000000   \n",
       "\n",
       "          Sort Code       Family  Credit Score  Mortgage(Thousands's)  \n",
       "count   5000.000000  5000.000000   5000.000000            5000.000000  \n",
       "mean   93152.503000     2.396400      1.937913              56.498800  \n",
       "std     2121.852197     1.147663      1.747666             101.713802  \n",
       "min     9307.000000     1.000000      0.000000               0.000000  \n",
       "25%    91911.000000     1.000000      0.700000               0.000000  \n",
       "50%    93437.000000     2.000000      1.500000               0.000000  \n",
       "75%    94608.000000     3.000000      2.500000             101.000000  \n",
       "max    96651.000000     4.000000     10.000000             635.000000  "
      ]
     },
     "execution_count": 5,
     "metadata": {},
     "output_type": "execute_result"
    }
   ],
   "source": [
    "bank_records.describe()"
   ]
  },
  {
   "cell_type": "code",
   "execution_count": 6,
   "id": "00eb802f-6514-4b8e-8182-b09d32f757a2",
   "metadata": {},
   "outputs": [
    {
     "data": {
      "text/html": [
       "<div>\n",
       "<style scoped>\n",
       "    .dataframe tbody tr th:only-of-type {\n",
       "        vertical-align: middle;\n",
       "    }\n",
       "\n",
       "    .dataframe tbody tr th {\n",
       "        vertical-align: top;\n",
       "    }\n",
       "\n",
       "    .dataframe thead th {\n",
       "        text-align: right;\n",
       "    }\n",
       "</style>\n",
       "<table border=\"1\" class=\"dataframe\">\n",
       "  <thead>\n",
       "    <tr style=\"text-align: right;\">\n",
       "      <th></th>\n",
       "      <th>ID</th>\n",
       "      <th>Age</th>\n",
       "      <th>Experience(Years)</th>\n",
       "      <th>Income(Thousands's)</th>\n",
       "      <th>Sort Code</th>\n",
       "      <th>Family</th>\n",
       "      <th>Credit Score</th>\n",
       "      <th>Education</th>\n",
       "      <th>Mortgage(Thousands's)</th>\n",
       "      <th>Personal Loan</th>\n",
       "      <th>Securities Account</th>\n",
       "      <th>CD Account</th>\n",
       "      <th>Online Banking</th>\n",
       "      <th>CreditCard</th>\n",
       "    </tr>\n",
       "  </thead>\n",
       "  <tbody>\n",
       "    <tr>\n",
       "      <th>0</th>\n",
       "      <td>1</td>\n",
       "      <td>25</td>\n",
       "      <td>1</td>\n",
       "      <td>49</td>\n",
       "      <td>91107</td>\n",
       "      <td>4</td>\n",
       "      <td>1.6</td>\n",
       "      <td>Diploma</td>\n",
       "      <td>0</td>\n",
       "      <td>No</td>\n",
       "      <td>Yes</td>\n",
       "      <td>No</td>\n",
       "      <td>No</td>\n",
       "      <td>No</td>\n",
       "    </tr>\n",
       "    <tr>\n",
       "      <th>1</th>\n",
       "      <td>2</td>\n",
       "      <td>45</td>\n",
       "      <td>19</td>\n",
       "      <td>34</td>\n",
       "      <td>90089</td>\n",
       "      <td>3</td>\n",
       "      <td>1.5</td>\n",
       "      <td>Diploma</td>\n",
       "      <td>0</td>\n",
       "      <td>No</td>\n",
       "      <td>Yes</td>\n",
       "      <td>No</td>\n",
       "      <td>No</td>\n",
       "      <td>No</td>\n",
       "    </tr>\n",
       "    <tr>\n",
       "      <th>2</th>\n",
       "      <td>3</td>\n",
       "      <td>39</td>\n",
       "      <td>15</td>\n",
       "      <td>11</td>\n",
       "      <td>94720</td>\n",
       "      <td>1</td>\n",
       "      <td>1.0</td>\n",
       "      <td>Diploma</td>\n",
       "      <td>0</td>\n",
       "      <td>No</td>\n",
       "      <td>No</td>\n",
       "      <td>No</td>\n",
       "      <td>No</td>\n",
       "      <td>No</td>\n",
       "    </tr>\n",
       "    <tr>\n",
       "      <th>3</th>\n",
       "      <td>4</td>\n",
       "      <td>35</td>\n",
       "      <td>9</td>\n",
       "      <td>100</td>\n",
       "      <td>94112</td>\n",
       "      <td>1</td>\n",
       "      <td>2.7</td>\n",
       "      <td>Degree</td>\n",
       "      <td>0</td>\n",
       "      <td>No</td>\n",
       "      <td>No</td>\n",
       "      <td>No</td>\n",
       "      <td>No</td>\n",
       "      <td>No</td>\n",
       "    </tr>\n",
       "    <tr>\n",
       "      <th>4</th>\n",
       "      <td>5</td>\n",
       "      <td>35</td>\n",
       "      <td>8</td>\n",
       "      <td>45</td>\n",
       "      <td>91330</td>\n",
       "      <td>4</td>\n",
       "      <td>1.0</td>\n",
       "      <td>Degree</td>\n",
       "      <td>0</td>\n",
       "      <td>No</td>\n",
       "      <td>No</td>\n",
       "      <td>No</td>\n",
       "      <td>No</td>\n",
       "      <td>Yes</td>\n",
       "    </tr>\n",
       "  </tbody>\n",
       "</table>\n",
       "</div>"
      ],
      "text/plain": [
       "   ID  Age  Experience(Years)  Income(Thousands's)  Sort Code  Family  \\\n",
       "0   1   25                  1                   49      91107       4   \n",
       "1   2   45                 19                   34      90089       3   \n",
       "2   3   39                 15                   11      94720       1   \n",
       "3   4   35                  9                  100      94112       1   \n",
       "4   5   35                  8                   45      91330       4   \n",
       "\n",
       "   Credit Score Education  Mortgage(Thousands's) Personal Loan  \\\n",
       "0           1.6   Diploma                      0            No   \n",
       "1           1.5   Diploma                      0            No   \n",
       "2           1.0   Diploma                      0            No   \n",
       "3           2.7    Degree                      0            No   \n",
       "4           1.0    Degree                      0            No   \n",
       "\n",
       "  Securities Account CD Account Online Banking CreditCard  \n",
       "0                Yes         No             No         No  \n",
       "1                Yes         No             No         No  \n",
       "2                 No         No             No         No  \n",
       "3                 No         No             No         No  \n",
       "4                 No         No             No        Yes  "
      ]
     },
     "execution_count": 6,
     "metadata": {},
     "output_type": "execute_result"
    }
   ],
   "source": [
    "bank_records.head()"
   ]
  },
  {
   "cell_type": "code",
   "execution_count": 7,
   "id": "252593ff-1c78-47de-8201-841f5f9aa1e8",
   "metadata": {},
   "outputs": [
    {
     "data": {
      "text/plain": [
       "ID                       0\n",
       "Age                      0\n",
       "Experience(Years)        0\n",
       "Income(Thousands's)      0\n",
       "Sort Code                0\n",
       "Family                   0\n",
       "Credit Score             0\n",
       "Education                0\n",
       "Mortgage(Thousands's)    0\n",
       "Personal Loan            0\n",
       "Securities Account       0\n",
       "CD Account               0\n",
       "Online Banking           0\n",
       "CreditCard               0\n",
       "dtype: int64"
      ]
     },
     "execution_count": 7,
     "metadata": {},
     "output_type": "execute_result"
    }
   ],
   "source": [
    "bank_records.isna().sum()"
   ]
  },
  {
   "cell_type": "code",
   "execution_count": 8,
   "id": "2b9a0b11-48e5-4ede-8fb7-058e757a5112",
   "metadata": {},
   "outputs": [
    {
     "data": {
      "text/html": [
       "<div>\n",
       "<style scoped>\n",
       "    .dataframe tbody tr th:only-of-type {\n",
       "        vertical-align: middle;\n",
       "    }\n",
       "\n",
       "    .dataframe tbody tr th {\n",
       "        vertical-align: top;\n",
       "    }\n",
       "\n",
       "    .dataframe thead th {\n",
       "        text-align: right;\n",
       "    }\n",
       "</style>\n",
       "<table border=\"1\" class=\"dataframe\">\n",
       "  <thead>\n",
       "    <tr style=\"text-align: right;\">\n",
       "      <th></th>\n",
       "      <th>ID</th>\n",
       "      <th>Age</th>\n",
       "      <th>Experience(Years)</th>\n",
       "      <th>Income(Thousands's)</th>\n",
       "      <th>Sort Code</th>\n",
       "      <th>Family</th>\n",
       "      <th>Credit Score</th>\n",
       "      <th>Education</th>\n",
       "      <th>Mortgage(Thousands's)</th>\n",
       "      <th>Personal Loan</th>\n",
       "      <th>Securities Account</th>\n",
       "      <th>CD Account</th>\n",
       "      <th>Online Banking</th>\n",
       "      <th>CreditCard</th>\n",
       "    </tr>\n",
       "  </thead>\n",
       "  <tbody>\n",
       "  </tbody>\n",
       "</table>\n",
       "</div>"
      ],
      "text/plain": [
       "Empty DataFrame\n",
       "Columns: [ID, Age, Experience(Years), Income(Thousands's), Sort Code, Family, Credit Score, Education, Mortgage(Thousands's), Personal Loan, Securities Account, CD Account, Online Banking, CreditCard]\n",
       "Index: []"
      ]
     },
     "execution_count": 8,
     "metadata": {},
     "output_type": "execute_result"
    }
   ],
   "source": [
    "bank_records.loc[bank_records.duplicated()]"
   ]
  },
  {
   "cell_type": "code",
   "execution_count": 9,
   "id": "5c9fcb88-3431-487d-88a2-61f2cf417997",
   "metadata": {},
   "outputs": [
    {
     "data": {
      "text/plain": [
       "Index(['ID', 'Age', 'Experience(Years)', 'Income(Thousands's)', 'Sort Code',\n",
       "       'Family', 'Credit Score', 'Education', 'Mortgage(Thousands's)',\n",
       "       'Personal Loan', 'Securities Account', 'CD Account', 'Online Banking',\n",
       "       'CreditCard'],\n",
       "      dtype='object')"
      ]
     },
     "execution_count": 9,
     "metadata": {},
     "output_type": "execute_result"
    }
   ],
   "source": [
    "bank_records.columns"
   ]
  },
  {
   "cell_type": "code",
   "execution_count": 10,
   "id": "e760b179-0b52-4748-bee3-848390fafb87",
   "metadata": {},
   "outputs": [],
   "source": [
    "num_col = bank_records.select_dtypes(include=['int64', 'float64']).columns\n",
    "corr_matrix = bank_records[num_col].corr()"
   ]
  },
  {
   "cell_type": "code",
   "execution_count": 11,
   "id": "bcf5af78-ec23-4db3-ac39-23d3ced114a8",
   "metadata": {},
   "outputs": [
    {
     "data": {
      "image/png": "[encoded data removed]",
      "text/plain": [
       "<Figure size 1000x800 with 2 Axes>"
      ]
     },
     "metadata": {},
     "output_type": "display_data"
    }
   ],
   "source": [
    "plt.figure(figsize=(10,8))\n",
    "sns.heatmap(corr_matrix, annot=True, cmap='coolwarm', fmt=\".2f\", linewidths=0.5)\n",
    "plt.title(\"Correlation Matrix\")\n",
    "plt.show()"
   ]
  },
  {
   "cell_type": "markdown",
   "id": "52fc8b76-da7b-43d8-9516-a9429b8d98c9",
   "metadata": {},
   "source": [
    "#### Data Transformation / Feature Engineering:"
   ]
  },
  {
   "cell_type": "code",
   "execution_count": 12,
   "id": "993efbfc-20ae-43ac-ad27-a20918a4a033",
   "metadata": {},
   "outputs": [],
   "source": [
    "bank_records = bank_records.rename(columns={\"Income(Thousands's)\": \"Income(Thousands)\", \"Mortgage(Thousands's)\":\"Mortgage(Thousands)\"})"
   ]
  },
  {
   "cell_type": "code",
   "execution_count": 13,
   "id": "8835df41-4ed9-4373-bc76-16d11f690e92",
   "metadata": {},
   "outputs": [
    {
     "data": {
      "text/plain": [
       "Index(['ID', 'Age', 'Experience(Years)', 'Income(Thousands)', 'Sort Code',\n",
       "       'Family', 'Credit Score', 'Education', 'Mortgage(Thousands)',\n",
       "       'Personal Loan', 'Securities Account', 'CD Account', 'Online Banking',\n",
       "       'CreditCard'],\n",
       "      dtype='object')"
      ]
     },
     "execution_count": 13,
     "metadata": {},
     "output_type": "execute_result"
    }
   ],
   "source": [
    "bank_records.columns"
   ]
  },
  {
   "cell_type": "markdown",
   "id": "c5e4cbba-e890-4e57-8208-6a085f54b011",
   "metadata": {},
   "source": [
    "Below, some of features are being dropped as they apparently have relevance to predicting an Income as they might not affect someone's gross income which is what we are trying to predict.\n",
    "Therefore, the features to be removed are ['ID', 'Sort Code', 'Family', 'Credit Score', 'Mortgage(Thousands)', 'Personal Loan', 'Securities Account', 'CD Account', 'Online Banking','CreditCard']. ID and Sort Code simply appears to be some sort of bank or process identification. Credit Score, Mortgage, Personal loan, Credit Card usually are defined based on someone's income, not the other way around. Family, CD Account, Securities Account, Online Banking seems to be other irrelevant variables not related to predicting income. The only apparent variables capable of strongly predicting someone's income are Age, Experience(Years), and Education, for that reason they are the variables to be used and applied to the models to be created to predict income. "
   ]
  },
  {
   "cell_type": "code",
   "execution_count": 14,
   "id": "f49b9efd-5e6e-4057-9239-2c4eca8fc0e4",
   "metadata": {},
   "outputs": [],
   "source": [
    "bank_records = bank_records.drop(['ID', 'Sort Code',\n",
    "       'Family', 'Credit Score','Mortgage(Thousands)',\n",
    "       'Personal Loan', 'Securities Account', 'CD Account', 'Online Banking',\n",
    "       'CreditCard'], axis = 1).copy()"
   ]
  },
  {
   "cell_type": "code",
   "execution_count": 15,
   "id": "6103cb27-746d-4e6d-bffa-46df9dd6bbf0",
   "metadata": {},
   "outputs": [
    {
     "data": {
      "text/html": [
       "<div>\n",
       "<style scoped>\n",
       "    .dataframe tbody tr th:only-of-type {\n",
       "        vertical-align: middle;\n",
       "    }\n",
       "\n",
       "    .dataframe tbody tr th {\n",
       "        vertical-align: top;\n",
       "    }\n",
       "\n",
       "    .dataframe thead th {\n",
       "        text-align: right;\n",
       "    }\n",
       "</style>\n",
       "<table border=\"1\" class=\"dataframe\">\n",
       "  <thead>\n",
       "    <tr style=\"text-align: right;\">\n",
       "      <th></th>\n",
       "      <th>Age</th>\n",
       "      <th>Experience(Years)</th>\n",
       "      <th>Income(Thousands)</th>\n",
       "      <th>Education</th>\n",
       "    </tr>\n",
       "  </thead>\n",
       "  <tbody>\n",
       "    <tr>\n",
       "      <th>0</th>\n",
       "      <td>25</td>\n",
       "      <td>1</td>\n",
       "      <td>49</td>\n",
       "      <td>Diploma</td>\n",
       "    </tr>\n",
       "    <tr>\n",
       "      <th>1</th>\n",
       "      <td>45</td>\n",
       "      <td>19</td>\n",
       "      <td>34</td>\n",
       "      <td>Diploma</td>\n",
       "    </tr>\n",
       "    <tr>\n",
       "      <th>2</th>\n",
       "      <td>39</td>\n",
       "      <td>15</td>\n",
       "      <td>11</td>\n",
       "      <td>Diploma</td>\n",
       "    </tr>\n",
       "    <tr>\n",
       "      <th>3</th>\n",
       "      <td>35</td>\n",
       "      <td>9</td>\n",
       "      <td>100</td>\n",
       "      <td>Degree</td>\n",
       "    </tr>\n",
       "    <tr>\n",
       "      <th>4</th>\n",
       "      <td>35</td>\n",
       "      <td>8</td>\n",
       "      <td>45</td>\n",
       "      <td>Degree</td>\n",
       "    </tr>\n",
       "    <tr>\n",
       "      <th>...</th>\n",
       "      <td>...</td>\n",
       "      <td>...</td>\n",
       "      <td>...</td>\n",
       "      <td>...</td>\n",
       "    </tr>\n",
       "    <tr>\n",
       "      <th>4995</th>\n",
       "      <td>29</td>\n",
       "      <td>3</td>\n",
       "      <td>40</td>\n",
       "      <td>Masters</td>\n",
       "    </tr>\n",
       "    <tr>\n",
       "      <th>4996</th>\n",
       "      <td>30</td>\n",
       "      <td>4</td>\n",
       "      <td>15</td>\n",
       "      <td>Diploma</td>\n",
       "    </tr>\n",
       "    <tr>\n",
       "      <th>4997</th>\n",
       "      <td>63</td>\n",
       "      <td>39</td>\n",
       "      <td>24</td>\n",
       "      <td>Masters</td>\n",
       "    </tr>\n",
       "    <tr>\n",
       "      <th>4998</th>\n",
       "      <td>65</td>\n",
       "      <td>40</td>\n",
       "      <td>49</td>\n",
       "      <td>Degree</td>\n",
       "    </tr>\n",
       "    <tr>\n",
       "      <th>4999</th>\n",
       "      <td>28</td>\n",
       "      <td>4</td>\n",
       "      <td>83</td>\n",
       "      <td>Diploma</td>\n",
       "    </tr>\n",
       "  </tbody>\n",
       "</table>\n",
       "<p>5000 rows × 4 columns</p>\n",
       "</div>"
      ],
      "text/plain": [
       "      Age  Experience(Years)  Income(Thousands) Education\n",
       "0      25                  1                 49   Diploma\n",
       "1      45                 19                 34   Diploma\n",
       "2      39                 15                 11   Diploma\n",
       "3      35                  9                100    Degree\n",
       "4      35                  8                 45    Degree\n",
       "...   ...                ...                ...       ...\n",
       "4995   29                  3                 40   Masters\n",
       "4996   30                  4                 15   Diploma\n",
       "4997   63                 39                 24   Masters\n",
       "4998   65                 40                 49    Degree\n",
       "4999   28                  4                 83   Diploma\n",
       "\n",
       "[5000 rows x 4 columns]"
      ]
     },
     "execution_count": 15,
     "metadata": {},
     "output_type": "execute_result"
    }
   ],
   "source": [
    "bank_records"
   ]
  },
  {
   "cell_type": "code",
   "execution_count": 16,
   "id": "b104a443-9c23-4de4-8886-d4a227543e7e",
   "metadata": {},
   "outputs": [
    {
     "data": {
      "text/plain": [
       "array(['Diploma', 'Degree', 'Masters'], dtype=object)"
      ]
     },
     "execution_count": 16,
     "metadata": {},
     "output_type": "execute_result"
    }
   ],
   "source": [
    "bank_records['Education'].unique()"
   ]
  },
  {
   "cell_type": "code",
   "execution_count": 17,
   "id": "44b0b31d-7cbc-4ba1-af7f-cad7fa22ddc4",
   "metadata": {},
   "outputs": [],
   "source": [
    "oe = ['Diploma', 'Degree', 'Masters']"
   ]
  },
  {
   "cell_type": "code",
   "execution_count": 18,
   "id": "7a9ab3db-1a94-41c5-98e2-32a7bd1a81e6",
   "metadata": {},
   "outputs": [],
   "source": [
    "from sklearn.preprocessing import OrdinalEncoder"
   ]
  },
  {
   "cell_type": "code",
   "execution_count": 19,
   "id": "446e6d5d-bc3b-4308-85d7-1a97f20442ef",
   "metadata": {},
   "outputs": [],
   "source": [
    "oenc = OrdinalEncoder(categories = [oe])"
   ]
  },
  {
   "cell_type": "code",
   "execution_count": 20,
   "id": "325b1c31-cf85-478f-a152-eb51abd654c1",
   "metadata": {},
   "outputs": [],
   "source": [
    "bank_records['Education'] = oenc.fit_transform(bank_records[['Education']])"
   ]
  },
  {
   "cell_type": "code",
   "execution_count": 21,
   "id": "34566a0a-0f0d-4292-bb6a-afe41fa8be3a",
   "metadata": {},
   "outputs": [
    {
     "data": {
      "text/html": [
       "<div>\n",
       "<style scoped>\n",
       "    .dataframe tbody tr th:only-of-type {\n",
       "        vertical-align: middle;\n",
       "    }\n",
       "\n",
       "    .dataframe tbody tr th {\n",
       "        vertical-align: top;\n",
       "    }\n",
       "\n",
       "    .dataframe thead th {\n",
       "        text-align: right;\n",
       "    }\n",
       "</style>\n",
       "<table border=\"1\" class=\"dataframe\">\n",
       "  <thead>\n",
       "    <tr style=\"text-align: right;\">\n",
       "      <th></th>\n",
       "      <th>Age</th>\n",
       "      <th>Experience(Years)</th>\n",
       "      <th>Income(Thousands)</th>\n",
       "      <th>Education</th>\n",
       "    </tr>\n",
       "  </thead>\n",
       "  <tbody>\n",
       "    <tr>\n",
       "      <th>0</th>\n",
       "      <td>25</td>\n",
       "      <td>1</td>\n",
       "      <td>49</td>\n",
       "      <td>0.0</td>\n",
       "    </tr>\n",
       "    <tr>\n",
       "      <th>1</th>\n",
       "      <td>45</td>\n",
       "      <td>19</td>\n",
       "      <td>34</td>\n",
       "      <td>0.0</td>\n",
       "    </tr>\n",
       "    <tr>\n",
       "      <th>2</th>\n",
       "      <td>39</td>\n",
       "      <td>15</td>\n",
       "      <td>11</td>\n",
       "      <td>0.0</td>\n",
       "    </tr>\n",
       "    <tr>\n",
       "      <th>3</th>\n",
       "      <td>35</td>\n",
       "      <td>9</td>\n",
       "      <td>100</td>\n",
       "      <td>1.0</td>\n",
       "    </tr>\n",
       "    <tr>\n",
       "      <th>4</th>\n",
       "      <td>35</td>\n",
       "      <td>8</td>\n",
       "      <td>45</td>\n",
       "      <td>1.0</td>\n",
       "    </tr>\n",
       "    <tr>\n",
       "      <th>...</th>\n",
       "      <td>...</td>\n",
       "      <td>...</td>\n",
       "      <td>...</td>\n",
       "      <td>...</td>\n",
       "    </tr>\n",
       "    <tr>\n",
       "      <th>4995</th>\n",
       "      <td>29</td>\n",
       "      <td>3</td>\n",
       "      <td>40</td>\n",
       "      <td>2.0</td>\n",
       "    </tr>\n",
       "    <tr>\n",
       "      <th>4996</th>\n",
       "      <td>30</td>\n",
       "      <td>4</td>\n",
       "      <td>15</td>\n",
       "      <td>0.0</td>\n",
       "    </tr>\n",
       "    <tr>\n",
       "      <th>4997</th>\n",
       "      <td>63</td>\n",
       "      <td>39</td>\n",
       "      <td>24</td>\n",
       "      <td>2.0</td>\n",
       "    </tr>\n",
       "    <tr>\n",
       "      <th>4998</th>\n",
       "      <td>65</td>\n",
       "      <td>40</td>\n",
       "      <td>49</td>\n",
       "      <td>1.0</td>\n",
       "    </tr>\n",
       "    <tr>\n",
       "      <th>4999</th>\n",
       "      <td>28</td>\n",
       "      <td>4</td>\n",
       "      <td>83</td>\n",
       "      <td>0.0</td>\n",
       "    </tr>\n",
       "  </tbody>\n",
       "</table>\n",
       "<p>5000 rows × 4 columns</p>\n",
       "</div>"
      ],
      "text/plain": [
       "      Age  Experience(Years)  Income(Thousands)  Education\n",
       "0      25                  1                 49        0.0\n",
       "1      45                 19                 34        0.0\n",
       "2      39                 15                 11        0.0\n",
       "3      35                  9                100        1.0\n",
       "4      35                  8                 45        1.0\n",
       "...   ...                ...                ...        ...\n",
       "4995   29                  3                 40        2.0\n",
       "4996   30                  4                 15        0.0\n",
       "4997   63                 39                 24        2.0\n",
       "4998   65                 40                 49        1.0\n",
       "4999   28                  4                 83        0.0\n",
       "\n",
       "[5000 rows x 4 columns]"
      ]
     },
     "execution_count": 21,
     "metadata": {},
     "output_type": "execute_result"
    }
   ],
   "source": [
    "bank_records"
   ]
  },
  {
   "cell_type": "markdown",
   "id": "55e76f58-47e0-4082-b2d8-f7120632199a",
   "metadata": {},
   "source": [
    "The process above encodes using the Ordinal encoding method to encode the feature 'Education' ordering for value importance to help the machine learning model to better predict income considering the education level's importance."
   ]
  },
  {
   "cell_type": "markdown",
   "id": "b84fc940-4a5c-4fa7-aa9c-ef77a2e1a5a5",
   "metadata": {},
   "source": [
    "Below is being checked if there is any incoherence or discrepancy in the feature's values. In 'Experience(Years)' was found negative values which cannot be accurate due to the fact that the value cannot be negative because of the feature's nature. Therefore, a simple method to turn the negative values to positive values was applied."
   ]
  },
  {
   "cell_type": "code",
   "execution_count": 22,
   "id": "878e01e1-13dd-45ba-993b-284da62e1aee",
   "metadata": {},
   "outputs": [
    {
     "data": {
      "text/plain": [
       "array([25, 45, 39, 35, 37, 53, 50, 34, 65, 29, 48, 59, 67, 60, 38, 42, 46,\n",
       "       55, 56, 57, 44, 36, 43, 40, 30, 31, 51, 32, 61, 41, 28, 49, 47, 62,\n",
       "       58, 54, 33, 27, 66, 24, 52, 26, 64, 63, 23], dtype=int64)"
      ]
     },
     "execution_count": 22,
     "metadata": {},
     "output_type": "execute_result"
    }
   ],
   "source": [
    "bank_records['Age'].unique()"
   ]
  },
  {
   "cell_type": "code",
   "execution_count": 23,
   "id": "1f8c8a57-bee8-4608-816c-4537ba2ac057",
   "metadata": {},
   "outputs": [
    {
     "data": {
      "text/plain": [
       "array([ 1, 19, 15,  9,  8, 13, 27, 24, 10, 39,  5, 23, 32, 41, 30, 14, 18,\n",
       "       21, 28, 31, 11, 16, 20, 35,  6, 25,  7, 12, 26, 37, 17,  2, 36, 29,\n",
       "        3, 22, -1, 34,  0, 38, 40, 33,  4, -2, 42, -3, 43], dtype=int64)"
      ]
     },
     "execution_count": 23,
     "metadata": {},
     "output_type": "execute_result"
    }
   ],
   "source": [
    "bank_records['Experience(Years)'].unique()"
   ]
  },
  {
   "cell_type": "code",
   "execution_count": 24,
   "id": "cf573789-e5be-41a3-b46f-8e80a84fe335",
   "metadata": {},
   "outputs": [],
   "source": [
    "bank_records['Experience(Years)'] = bank_records['Experience(Years)'].abs()"
   ]
  },
  {
   "cell_type": "code",
   "execution_count": 25,
   "id": "29a50adc-6489-4ad7-b9ba-9ac97927ee2f",
   "metadata": {},
   "outputs": [
    {
     "data": {
      "text/plain": [
       "array([ 1, 19, 15,  9,  8, 13, 27, 24, 10, 39,  5, 23, 32, 41, 30, 14, 18,\n",
       "       21, 28, 31, 11, 16, 20, 35,  6, 25,  7, 12, 26, 37, 17,  2, 36, 29,\n",
       "        3, 22, 34,  0, 38, 40, 33,  4, 42, 43], dtype=int64)"
      ]
     },
     "execution_count": 25,
     "metadata": {},
     "output_type": "execute_result"
    }
   ],
   "source": [
    "bank_records['Experience(Years)'].unique()"
   ]
  },
  {
   "cell_type": "code",
   "execution_count": 26,
   "id": "f7dfd243-69e2-4dd1-8588-f0c5dcb815de",
   "metadata": {},
   "outputs": [
    {
     "data": {
      "text/plain": [
       "array([ 49,  34,  11, 100,  45,  29,  72,  22,  81, 180, 105, 114,  40,\n",
       "       112, 130, 193,  21,  25,  63,  62,  43, 152,  83, 158,  48, 119,\n",
       "        35,  41,  18,  50, 121,  71, 141,  80,  84,  60, 132, 104,  52,\n",
       "       194,   8, 131, 190,  44, 139,  93, 188,  39, 125,  32,  20, 115,\n",
       "        69,  85, 135,  12, 133,  19,  82, 109,  42,  78,  51, 113, 118,\n",
       "        64, 161,  94,  15,  74,  30,  38,   9,  92,  61,  73,  70, 149,\n",
       "        98, 128,  31,  58,  54, 124, 163,  24,  79, 134,  23,  13, 138,\n",
       "       171, 168,  65,  10, 148, 159, 169, 144, 165,  59,  68,  91, 172,\n",
       "        55, 155,  53,  89,  28,  75, 170, 120,  99, 111,  33, 129, 122,\n",
       "       150, 195, 110, 101, 191, 140, 153, 173, 174,  90, 179, 145, 200,\n",
       "       183, 182,  88, 160, 205, 164,  14, 175, 103, 108, 185, 204, 154,\n",
       "       102, 192, 202, 162, 142,  95, 184, 181, 143, 123, 178, 198, 201,\n",
       "       203, 189, 151, 199, 224, 218], dtype=int64)"
      ]
     },
     "execution_count": 26,
     "metadata": {},
     "output_type": "execute_result"
    }
   ],
   "source": [
    "bank_records['Income(Thousands)'].unique()"
   ]
  },
  {
   "cell_type": "code",
   "execution_count": 27,
   "id": "d258ab33-943e-4eca-b2e4-d12f3b7cda76",
   "metadata": {},
   "outputs": [
    {
     "data": {
      "text/plain": [
       "array([0., 1., 2.])"
      ]
     },
     "execution_count": 27,
     "metadata": {},
     "output_type": "execute_result"
    }
   ],
   "source": [
    "bank_records['Education'].unique()"
   ]
  },
  {
   "cell_type": "markdown",
   "id": "34bfbd75-c581-49d8-b395-9de4412489e6",
   "metadata": {},
   "source": [
    "#### Splitting Dataset / Modelling:"
   ]
  },
  {
   "cell_type": "markdown",
   "id": "4449269e-d0e6-4711-9bee-87a3cf89fcc7",
   "metadata": {},
   "source": [
    "#### Splitting:"
   ]
  },
  {
   "cell_type": "code",
   "execution_count": 28,
   "id": "2bc62815-0ea3-4127-afc1-8d7470b87038",
   "metadata": {},
   "outputs": [],
   "source": [
    "indpt_feat = bank_records.drop('Income(Thousands)', axis = 'columns')\n",
    "dpt_feat = bank_records['Income(Thousands)']\n",
    "\n",
    "X = indpt_feat\n",
    "y = dpt_feat"
   ]
  },
  {
   "cell_type": "code",
   "execution_count": 29,
   "id": "78eabc3a-f442-489f-b029-0c1061db1c73",
   "metadata": {},
   "outputs": [
    {
     "data": {
      "text/html": [
       "<div>\n",
       "<style scoped>\n",
       "    .dataframe tbody tr th:only-of-type {\n",
       "        vertical-align: middle;\n",
       "    }\n",
       "\n",
       "    .dataframe tbody tr th {\n",
       "        vertical-align: top;\n",
       "    }\n",
       "\n",
       "    .dataframe thead th {\n",
       "        text-align: right;\n",
       "    }\n",
       "</style>\n",
       "<table border=\"1\" class=\"dataframe\">\n",
       "  <thead>\n",
       "    <tr style=\"text-align: right;\">\n",
       "      <th></th>\n",
       "      <th>Age</th>\n",
       "      <th>Experience(Years)</th>\n",
       "      <th>Education</th>\n",
       "    </tr>\n",
       "  </thead>\n",
       "  <tbody>\n",
       "    <tr>\n",
       "      <th>0</th>\n",
       "      <td>25</td>\n",
       "      <td>1</td>\n",
       "      <td>0.0</td>\n",
       "    </tr>\n",
       "    <tr>\n",
       "      <th>1</th>\n",
       "      <td>45</td>\n",
       "      <td>19</td>\n",
       "      <td>0.0</td>\n",
       "    </tr>\n",
       "    <tr>\n",
       "      <th>2</th>\n",
       "      <td>39</td>\n",
       "      <td>15</td>\n",
       "      <td>0.0</td>\n",
       "    </tr>\n",
       "    <tr>\n",
       "      <th>3</th>\n",
       "      <td>35</td>\n",
       "      <td>9</td>\n",
       "      <td>1.0</td>\n",
       "    </tr>\n",
       "    <tr>\n",
       "      <th>4</th>\n",
       "      <td>35</td>\n",
       "      <td>8</td>\n",
       "      <td>1.0</td>\n",
       "    </tr>\n",
       "    <tr>\n",
       "      <th>...</th>\n",
       "      <td>...</td>\n",
       "      <td>...</td>\n",
       "      <td>...</td>\n",
       "    </tr>\n",
       "    <tr>\n",
       "      <th>4995</th>\n",
       "      <td>29</td>\n",
       "      <td>3</td>\n",
       "      <td>2.0</td>\n",
       "    </tr>\n",
       "    <tr>\n",
       "      <th>4996</th>\n",
       "      <td>30</td>\n",
       "      <td>4</td>\n",
       "      <td>0.0</td>\n",
       "    </tr>\n",
       "    <tr>\n",
       "      <th>4997</th>\n",
       "      <td>63</td>\n",
       "      <td>39</td>\n",
       "      <td>2.0</td>\n",
       "    </tr>\n",
       "    <tr>\n",
       "      <th>4998</th>\n",
       "      <td>65</td>\n",
       "      <td>40</td>\n",
       "      <td>1.0</td>\n",
       "    </tr>\n",
       "    <tr>\n",
       "      <th>4999</th>\n",
       "      <td>28</td>\n",
       "      <td>4</td>\n",
       "      <td>0.0</td>\n",
       "    </tr>\n",
       "  </tbody>\n",
       "</table>\n",
       "<p>5000 rows × 3 columns</p>\n",
       "</div>"
      ],
      "text/plain": [
       "      Age  Experience(Years)  Education\n",
       "0      25                  1        0.0\n",
       "1      45                 19        0.0\n",
       "2      39                 15        0.0\n",
       "3      35                  9        1.0\n",
       "4      35                  8        1.0\n",
       "...   ...                ...        ...\n",
       "4995   29                  3        2.0\n",
       "4996   30                  4        0.0\n",
       "4997   63                 39        2.0\n",
       "4998   65                 40        1.0\n",
       "4999   28                  4        0.0\n",
       "\n",
       "[5000 rows x 3 columns]"
      ]
     },
     "execution_count": 29,
     "metadata": {},
     "output_type": "execute_result"
    }
   ],
   "source": [
    "X"
   ]
  },
  {
   "cell_type": "code",
   "execution_count": 30,
   "id": "b31cb191-40e5-4df1-ba86-14535c97ded2",
   "metadata": {},
   "outputs": [
    {
     "data": {
      "text/plain": [
       "0        49\n",
       "1        34\n",
       "2        11\n",
       "3       100\n",
       "4        45\n",
       "       ... \n",
       "4995     40\n",
       "4996     15\n",
       "4997     24\n",
       "4998     49\n",
       "4999     83\n",
       "Name: Income(Thousands), Length: 5000, dtype: int64"
      ]
     },
     "execution_count": 30,
     "metadata": {},
     "output_type": "execute_result"
    }
   ],
   "source": [
    "y"
   ]
  },
  {
   "cell_type": "code",
   "execution_count": 31,
   "id": "d4aecd52-97fb-4bc5-91f9-967a6ccab09d",
   "metadata": {},
   "outputs": [],
   "source": [
    "from sklearn.model_selection import train_test_split"
   ]
  },
  {
   "cell_type": "code",
   "execution_count": 32,
   "id": "8b0c4a02-9656-4a33-886c-256f92323a34",
   "metadata": {},
   "outputs": [],
   "source": [
    "X_train, X_test, y_train, y_test = train_test_split(X,y, random_state=17, test_size=0.2)"
   ]
  },
  {
   "cell_type": "code",
   "execution_count": 33,
   "id": "204c1ea8-8554-436c-bd6a-e5049dce3363",
   "metadata": {},
   "outputs": [
    {
     "data": {
      "text/plain": [
       "(4000, 3)"
      ]
     },
     "execution_count": 33,
     "metadata": {},
     "output_type": "execute_result"
    }
   ],
   "source": [
    "X_train.shape"
   ]
  },
  {
   "cell_type": "code",
   "execution_count": 34,
   "id": "b6a89b36-a003-4dc5-b768-425081003f30",
   "metadata": {},
   "outputs": [
    {
     "data": {
      "text/plain": [
       "(1000, 3)"
      ]
     },
     "execution_count": 34,
     "metadata": {},
     "output_type": "execute_result"
    }
   ],
   "source": [
    "X_test.shape"
   ]
  },
  {
   "cell_type": "code",
   "execution_count": 35,
   "id": "65ae674b-7cc3-4d83-8174-79d7b2c738cc",
   "metadata": {},
   "outputs": [
    {
     "data": {
      "text/plain": [
       "(4000,)"
      ]
     },
     "execution_count": 35,
     "metadata": {},
     "output_type": "execute_result"
    }
   ],
   "source": [
    "y_train.shape"
   ]
  },
  {
   "cell_type": "code",
   "execution_count": 36,
   "id": "6862be59-7aba-424b-8812-eef09915c602",
   "metadata": {},
   "outputs": [
    {
     "data": {
      "text/plain": [
       "(1000,)"
      ]
     },
     "execution_count": 36,
     "metadata": {},
     "output_type": "execute_result"
    }
   ],
   "source": [
    "y_test.shape"
   ]
  },
  {
   "cell_type": "code",
   "execution_count": 37,
   "id": "2881b040-9fd2-4d04-ad72-4d2f75d9dd55",
   "metadata": {},
   "outputs": [
    {
     "data": {
      "text/html": [
       "<div>\n",
       "<style scoped>\n",
       "    .dataframe tbody tr th:only-of-type {\n",
       "        vertical-align: middle;\n",
       "    }\n",
       "\n",
       "    .dataframe tbody tr th {\n",
       "        vertical-align: top;\n",
       "    }\n",
       "\n",
       "    .dataframe thead th {\n",
       "        text-align: right;\n",
       "    }\n",
       "</style>\n",
       "<table border=\"1\" class=\"dataframe\">\n",
       "  <thead>\n",
       "    <tr style=\"text-align: right;\">\n",
       "      <th></th>\n",
       "      <th>Age</th>\n",
       "      <th>Experience(Years)</th>\n",
       "      <th>Education</th>\n",
       "    </tr>\n",
       "  </thead>\n",
       "  <tbody>\n",
       "    <tr>\n",
       "      <th>1926</th>\n",
       "      <td>30</td>\n",
       "      <td>6</td>\n",
       "      <td>1.0</td>\n",
       "    </tr>\n",
       "    <tr>\n",
       "      <th>805</th>\n",
       "      <td>55</td>\n",
       "      <td>29</td>\n",
       "      <td>1.0</td>\n",
       "    </tr>\n",
       "    <tr>\n",
       "      <th>1674</th>\n",
       "      <td>37</td>\n",
       "      <td>11</td>\n",
       "      <td>1.0</td>\n",
       "    </tr>\n",
       "    <tr>\n",
       "      <th>81</th>\n",
       "      <td>47</td>\n",
       "      <td>22</td>\n",
       "      <td>1.0</td>\n",
       "    </tr>\n",
       "    <tr>\n",
       "      <th>2266</th>\n",
       "      <td>38</td>\n",
       "      <td>13</td>\n",
       "      <td>0.0</td>\n",
       "    </tr>\n",
       "    <tr>\n",
       "      <th>...</th>\n",
       "      <td>...</td>\n",
       "      <td>...</td>\n",
       "      <td>...</td>\n",
       "    </tr>\n",
       "    <tr>\n",
       "      <th>2800</th>\n",
       "      <td>52</td>\n",
       "      <td>26</td>\n",
       "      <td>1.0</td>\n",
       "    </tr>\n",
       "    <tr>\n",
       "      <th>1337</th>\n",
       "      <td>26</td>\n",
       "      <td>0</td>\n",
       "      <td>1.0</td>\n",
       "    </tr>\n",
       "    <tr>\n",
       "      <th>406</th>\n",
       "      <td>45</td>\n",
       "      <td>19</td>\n",
       "      <td>0.0</td>\n",
       "    </tr>\n",
       "    <tr>\n",
       "      <th>2191</th>\n",
       "      <td>42</td>\n",
       "      <td>18</td>\n",
       "      <td>0.0</td>\n",
       "    </tr>\n",
       "    <tr>\n",
       "      <th>2671</th>\n",
       "      <td>62</td>\n",
       "      <td>37</td>\n",
       "      <td>0.0</td>\n",
       "    </tr>\n",
       "  </tbody>\n",
       "</table>\n",
       "<p>4000 rows × 3 columns</p>\n",
       "</div>"
      ],
      "text/plain": [
       "      Age  Experience(Years)  Education\n",
       "1926   30                  6        1.0\n",
       "805    55                 29        1.0\n",
       "1674   37                 11        1.0\n",
       "81     47                 22        1.0\n",
       "2266   38                 13        0.0\n",
       "...   ...                ...        ...\n",
       "2800   52                 26        1.0\n",
       "1337   26                  0        1.0\n",
       "406    45                 19        0.0\n",
       "2191   42                 18        0.0\n",
       "2671   62                 37        0.0\n",
       "\n",
       "[4000 rows x 3 columns]"
      ]
     },
     "execution_count": 37,
     "metadata": {},
     "output_type": "execute_result"
    }
   ],
   "source": [
    "X_train"
   ]
  },
  {
   "cell_type": "markdown",
   "id": "813b2cf0-076b-4003-86b3-afe6ddbb2569",
   "metadata": {},
   "source": [
    "Above, the dataset is simnply split into four parts, first the independent features are split apart from the dependent variable to be predicted. After that the X = independent features and y = dependent feature are split in train and test sets to be performed in the model."
   ]
  },
  {
   "cell_type": "markdown",
   "id": "e1986da1-3b69-442c-8ce5-1da8a45b1502",
   "metadata": {},
   "source": [
    "#### Modelling:"
   ]
  },
  {
   "cell_type": "markdown",
   "id": "1277d2e4-53e0-47f3-a351-56321a3198f4",
   "metadata": {},
   "source": [
    "#### Neaural Model:"
   ]
  },
  {
   "cell_type": "markdown",
   "id": "cce4e32f-3d2d-481d-b7e0-b2d207148525",
   "metadata": {},
   "source": [
    "The model below is a neural network model that creates a regression model using TensorFlow and Keras. The model consists of three layers: input, hidden, and output. It employs the Adam optimizer, trains for a maximum of 100 epochs with early stopping, and assesses performance using MSE and MAE on the test dataset. "
   ]
  },
  {
   "cell_type": "code",
   "execution_count": 38,
   "id": "dfed94d1-b785-42cf-a2df-af46f78d4f3d",
   "metadata": {},
   "outputs": [],
   "source": [
    "import tensorflow as tf\n",
    "from tensorflow.keras.models import Sequential\n",
    "from tensorflow.keras.layers import Dense, Input\n",
    "from tensorflow.keras.optimizers import Adam\n",
    "from tensorflow.keras.callbacks import EarlyStopping\n",
    "from sklearn.metrics import r2_score"
   ]
  },
  {
   "cell_type": "code",
   "execution_count": 39,
   "id": "ad7f6963-c5f6-45eb-b795-101b6f36639c",
   "metadata": {},
   "outputs": [
    {
     "name": "stdout",
     "output_type": "stream",
     "text": [
      "Epoch 1/100\n",
      "100/100 - 2s - 17ms/step - loss: 4883.2886 - mae: 54.0777 - val_loss: 2622.1611 - val_mae: 39.0331\n",
      "Epoch 2/100\n",
      "100/100 - 0s - 2ms/step - loss: 2809.6919 - mae: 41.5943 - val_loss: 2525.2961 - val_mae: 38.7689\n",
      "Epoch 3/100\n",
      "100/100 - 0s - 2ms/step - loss: 2722.6365 - mae: 40.8717 - val_loss: 2436.6018 - val_mae: 38.1648\n",
      "Epoch 4/100\n",
      "100/100 - 0s - 2ms/step - loss: 2613.3113 - mae: 40.3327 - val_loss: 2329.9226 - val_mae: 37.2381\n",
      "Epoch 5/100\n",
      "100/100 - 0s - 2ms/step - loss: 2497.1367 - mae: 39.4241 - val_loss: 2223.9766 - val_mae: 36.8080\n",
      "Epoch 6/100\n",
      "100/100 - 0s - 2ms/step - loss: 2378.8584 - mae: 38.7241 - val_loss: 2119.7031 - val_mae: 35.9841\n",
      "Epoch 7/100\n",
      "100/100 - 0s - 2ms/step - loss: 2270.6238 - mae: 37.9733 - val_loss: 2078.8628 - val_mae: 36.7518\n",
      "Epoch 8/100\n",
      "100/100 - 0s - 2ms/step - loss: 2212.7603 - mae: 37.7404 - val_loss: 2008.6893 - val_mae: 35.5927\n",
      "Epoch 9/100\n",
      "100/100 - 0s - 2ms/step - loss: 2173.9490 - mae: 37.4739 - val_loss: 1992.7345 - val_mae: 35.5113\n",
      "Epoch 10/100\n",
      "100/100 - 0s - 2ms/step - loss: 2147.2546 - mae: 37.2753 - val_loss: 2000.7095 - val_mae: 36.1694\n",
      "Epoch 11/100\n",
      "100/100 - 0s - 2ms/step - loss: 2139.2568 - mae: 37.3344 - val_loss: 2005.6199 - val_mae: 35.1170\n",
      "Epoch 12/100\n",
      "100/100 - 0s - 2ms/step - loss: 2129.5471 - mae: 37.2129 - val_loss: 1977.2147 - val_mae: 35.4342\n",
      "Epoch 13/100\n",
      "100/100 - 0s - 2ms/step - loss: 2123.7742 - mae: 37.1938 - val_loss: 1986.8818 - val_mae: 35.1428\n",
      "Epoch 14/100\n",
      "100/100 - 0s - 2ms/step - loss: 2128.3901 - mae: 37.1393 - val_loss: 1973.2797 - val_mae: 35.6290\n",
      "Epoch 15/100\n",
      "100/100 - 0s - 2ms/step - loss: 2112.4082 - mae: 37.0964 - val_loss: 1970.5184 - val_mae: 35.1753\n",
      "Epoch 16/100\n",
      "100/100 - 0s - 2ms/step - loss: 2118.1873 - mae: 37.1003 - val_loss: 1967.6932 - val_mae: 35.5640\n",
      "Epoch 17/100\n",
      "100/100 - 0s - 2ms/step - loss: 2109.3889 - mae: 36.9990 - val_loss: 1964.3445 - val_mae: 35.2438\n",
      "Epoch 18/100\n",
      "100/100 - 0s - 2ms/step - loss: 2107.9607 - mae: 36.9485 - val_loss: 1964.5302 - val_mae: 35.4947\n",
      "Epoch 19/100\n",
      "100/100 - 0s - 2ms/step - loss: 2103.5400 - mae: 37.0250 - val_loss: 1971.7117 - val_mae: 35.8308\n",
      "Epoch 20/100\n",
      "100/100 - 0s - 2ms/step - loss: 2101.7351 - mae: 36.9184 - val_loss: 1960.5898 - val_mae: 35.2775\n",
      "Epoch 21/100\n",
      "100/100 - 0s - 2ms/step - loss: 2108.8098 - mae: 36.9391 - val_loss: 1970.2438 - val_mae: 34.9717\n",
      "Epoch 22/100\n",
      "100/100 - 0s - 2ms/step - loss: 2104.8936 - mae: 36.9824 - val_loss: 1967.9714 - val_mae: 35.7399\n",
      "Epoch 23/100\n",
      "100/100 - 0s - 2ms/step - loss: 2103.7415 - mae: 36.9500 - val_loss: 1971.2585 - val_mae: 35.8561\n",
      "Epoch 24/100\n",
      "100/100 - 0s - 2ms/step - loss: 2097.5305 - mae: 36.9152 - val_loss: 1989.6836 - val_mae: 36.2898\n",
      "Epoch 25/100\n",
      "100/100 - 0s - 2ms/step - loss: 2097.0139 - mae: 36.9192 - val_loss: 1961.0446 - val_mae: 35.4898\n",
      "32/32 - 0s - 8ms/step - loss: 2048.8875 - mae: 36.1234\n"
     ]
    }
   ],
   "source": [
    "def neural_model(neurons = 64, activation ='relu', optimizer = 'adam'):\n",
    "    model = Sequential()\n",
    "    model.add(Input(shape=(X_train.shape[1],)))\n",
    "    model.add(Dense(neurons, activation= activation))\n",
    "    model.add(Dense(32, activation= 'relu'))\n",
    "    model.add(Dense(1))\n",
    "    model.compile(optimizer=optimizer, loss='mse', metrics=['mae'])\n",
    "    return model\n",
    "model= neural_model()\n",
    "early_stopping = EarlyStopping(patience=5)\n",
    "\n",
    "model.fit(X_train, y_train, validation_split=0.2, epochs=100, batch_size=32, verbose=2, callbacks = [early_stopping])\n",
    "\n",
    "loss, mae = model.evaluate(X_test, y_test, verbose=2)"
   ]
  },
  {
   "cell_type": "code",
   "execution_count": 40,
   "id": "1b4f9906-ab71-4e95-a2e7-3546dae60e55",
   "metadata": {},
   "outputs": [
    {
     "name": "stdout",
     "output_type": "stream",
     "text": [
      "Mean Squared Error: 2048.887451171875\n",
      "Mean Absolute Error: 36.12342834472656\n"
     ]
    }
   ],
   "source": [
    "print(f\"Mean Squared Error: {loss}\")\n",
    "print(f\"Mean Absolute Error: {mae}\")"
   ]
  },
  {
   "cell_type": "code",
   "execution_count": 41,
   "id": "af15a5ff-c1e9-4bd5-97ed-06b9f8bc6355",
   "metadata": {},
   "outputs": [
    {
     "name": "stdout",
     "output_type": "stream",
     "text": [
      "\u001b[1m1/1\u001b[0m \u001b[32m━━━━━━━━━━━━━━━━━━━━\u001b[0m\u001b[37m\u001b[0m \u001b[1m0s\u001b[0m 58ms/step\n",
      "[[64.71758]]\n"
     ]
    }
   ],
   "source": [
    "\n",
    "input_feat = np.array([[30, 5, 2.0]])\n",
    "predicted_income = model.predict(input_feat.reshape(1,3), batch_size=1)\n",
    "print(predicted_income)"
   ]
  },
  {
   "cell_type": "code",
   "execution_count": 42,
   "id": "0c8bc838-7ec4-4148-ab82-cda286d9091a",
   "metadata": {},
   "outputs": [
    {
     "name": "stdout",
     "output_type": "stream",
     "text": [
      "\u001b[1m32/32\u001b[0m \u001b[32m━━━━━━━━━━━━━━━━━━━━\u001b[0m\u001b[37m\u001b[0m \u001b[1m0s\u001b[0m 1ms/step \n"
     ]
    }
   ],
   "source": [
    "y_pred = model.predict(X_test)*1000"
   ]
  },
  {
   "cell_type": "code",
   "execution_count": 43,
   "id": "a6342af2-2418-4fbc-91e2-845ac27a3ce4",
   "metadata": {},
   "outputs": [
    {
     "data": {
      "text/plain": [
       "array([[57861.637],\n",
       "       [71309.27 ],\n",
       "       [63564.57 ],\n",
       "       [60408.137],\n",
       "       [88924.98 ],\n",
       "       [90136.16 ],\n",
       "       [83214.52 ],\n",
       "       [71309.27 ],\n",
       "       [63439.438],\n",
       "       [59921.688],\n",
       "       [75360.21 ],\n",
       "       [72048.016],\n",
       "       [71702.234],\n",
       "       [60408.137],\n",
       "       [66198.234],\n",
       "       [60278.598],\n",
       "       [77205.695],\n",
       "       [68120.9  ],\n",
       "       [77131.95 ],\n",
       "       [82038.84 ],\n",
       "       [67580.695],\n",
       "       [72484.96 ],\n",
       "       [73660.64 ],\n",
       "       [68941.48 ],\n",
       "       [65881.14 ],\n",
       "       [72048.016],\n",
       "       [76216.17 ],\n",
       "       [61992.438],\n",
       "       [65323.16 ],\n",
       "       [83214.52 ],\n",
       "       [80362.13 ],\n",
       "       [77131.95 ],\n",
       "       [65977.32 ],\n",
       "       [76797.48 ],\n",
       "       [69537.54 ],\n",
       "       [70737.12 ],\n",
       "       [69929.44 ],\n",
       "       [68806.92 ],\n",
       "       [74049.28 ],\n",
       "       [56580.516],\n",
       "       [87903.31 ],\n",
       "       [73514.37 ],\n",
       "       [63714.875],\n",
       "       [76944.57 ],\n",
       "       [82055.96 ],\n",
       "       [78653.35 ],\n",
       "       [78917.03 ],\n",
       "       [61737.258],\n",
       "       [73817.16 ],\n",
       "       [84733.5  ],\n",
       "       [78566.625],\n",
       "       [77205.695],\n",
       "       [77100.27 ],\n",
       "       [78103.46 ],\n",
       "       [62419.98 ],\n",
       "       [62295.242],\n",
       "       [82661.555],\n",
       "       [80062.945],\n",
       "       [76216.17 ],\n",
       "       [73618.22 ],\n",
       "       [64751.105],\n",
       "       [73259.18 ],\n",
       "       [64972.76 ],\n",
       "       [91044.54 ],\n",
       "       [63082.023],\n",
       "       [63439.438],\n",
       "       [75432.38 ],\n",
       "       [62165.125],\n",
       "       [64414.79 ],\n",
       "       [60023.727],\n",
       "       [59921.688],\n",
       "       [77915.734],\n",
       "       [90438.96 ],\n",
       "       [62419.98 ],\n",
       "       [65020.38 ],\n",
       "       [73792.64 ],\n",
       "       [67092.31 ],\n",
       "       [80079.37 ],\n",
       "       [61594.668],\n",
       "       [63439.438],\n",
       "       [62105.273],\n",
       "       [63303.457],\n",
       "       [87428.75 ],\n",
       "       [69625.67 ],\n",
       "       [64751.105],\n",
       "       [63303.457],\n",
       "       [68120.9  ],\n",
       "       [79777.81 ],\n",
       "       [84175.52 ],\n",
       "       [72184.77 ],\n",
       "       [62165.125],\n",
       "       [68909.07 ],\n",
       "       [59342.895],\n",
       "       [74968.305],\n",
       "       [60788.312],\n",
       "       [63712.637],\n",
       "       [84671.625],\n",
       "       [78887.25 ],\n",
       "       [76542.3  ],\n",
       "       [83569.92 ],\n",
       "       [74444.44 ],\n",
       "       [64978.63 ],\n",
       "       [60890.69 ],\n",
       "       [88016.61 ],\n",
       "       [67697.9  ],\n",
       "       [62040.05 ],\n",
       "       [58103.75 ],\n",
       "       [69772.02 ],\n",
       "       [87761.42 ],\n",
       "       [89833.37 ],\n",
       "       [82358.76 ],\n",
       "       [80383.38 ],\n",
       "       [65578.35 ],\n",
       "       [78008.64 ],\n",
       "       [85944.664],\n",
       "       [75112.67 ],\n",
       "       [76462.02 ],\n",
       "       [62295.242],\n",
       "       [77403.07 ],\n",
       "       [78887.25 ],\n",
       "       [61084.066],\n",
       "       [63506.41 ],\n",
       "       [77319.68 ],\n",
       "       [65625.95 ],\n",
       "       [65625.95 ],\n",
       "       [62645.64 ],\n",
       "       [75504.56 ],\n",
       "       [71045.45 ],\n",
       "       [71076.21 ],\n",
       "       [60147.016],\n",
       "       [70584.8  ],\n",
       "       [57372.61 ],\n",
       "       [84782.1  ],\n",
       "       [73660.64 ],\n",
       "       [72184.77 ],\n",
       "       [62077.223],\n",
       "       [77711.58 ],\n",
       "       [77100.27 ],\n",
       "       [82038.84 ],\n",
       "       [86247.46 ],\n",
       "       [62820.895],\n",
       "       [60278.598],\n",
       "       [69993.445],\n",
       "       [57352.246],\n",
       "       [77205.695],\n",
       "       [71076.21 ],\n",
       "       [63506.41 ],\n",
       "       [60533.453],\n",
       "       [63564.57 ],\n",
       "       [68000.695],\n",
       "       [62929.707],\n",
       "       [68394.34 ],\n",
       "       [73347.71 ],\n",
       "       [78495.35 ],\n",
       "       [85957.78 ],\n",
       "       [67395.1  ],\n",
       "       [62338.336],\n",
       "       [61855.79 ],\n",
       "       [69514.66 ],\n",
       "       [65494.766],\n",
       "       [59920.5  ],\n",
       "       [83606.42 ],\n",
       "       [61373.242],\n",
       "       [74553.625],\n",
       "       [76797.48 ],\n",
       "       [66459.875],\n",
       "       [62684.062],\n",
       "       [57861.637],\n",
       "       [67092.31 ],\n",
       "       [76723.14 ],\n",
       "       [80659.   ],\n",
       "       [71480.79 ],\n",
       "       [79875.195],\n",
       "       [65494.773],\n",
       "       [62298.207],\n",
       "       [62338.336],\n",
       "       [70690.34 ],\n",
       "       [75633.92 ],\n",
       "       [73411.   ],\n",
       "       [60278.598],\n",
       "       [82344.32 ],\n",
       "       [70790.59 ],\n",
       "       [80454.84 ],\n",
       "       [90741.75 ],\n",
       "       [79279.15 ],\n",
       "       [89227.78 ],\n",
       "       [88924.98 ],\n",
       "       [71219.67 ],\n",
       "       [87761.42 ],\n",
       "       [81050.89 ],\n",
       "       [74049.27 ],\n",
       "       [85944.664],\n",
       "       [83010.36 ],\n",
       "       [82055.96 ],\n",
       "       [70836.83 ],\n",
       "       [60890.69 ],\n",
       "       [73211.57 ],\n",
       "       [65494.773],\n",
       "       [77319.68 ],\n",
       "       [78311.44 ],\n",
       "       [81646.95 ],\n",
       "       [71309.27 ],\n",
       "       [60023.727],\n",
       "       [81594.56 ],\n",
       "       [71702.234],\n",
       "       [75936.7  ],\n",
       "       [56608.027],\n",
       "       [72653.59 ],\n",
       "       [79279.15 ],\n",
       "       [70690.34 ],\n",
       "       [75014.37 ],\n",
       "       [77711.58 ],\n",
       "       [79825.41 ],\n",
       "       [63786.   ],\n",
       "       [80863.15 ],\n",
       "       [72876.85 ],\n",
       "       [89227.78 ],\n",
       "       [65488.35 ],\n",
       "       [66615.586],\n",
       "       [70737.12 ],\n",
       "       [61992.438],\n",
       "       [84478.31 ],\n",
       "       [84390.2  ],\n",
       "       [66133.03 ],\n",
       "       [65165.598],\n",
       "       [89530.57 ],\n",
       "       [62684.062],\n",
       "       [75496.92 ],\n",
       "       [72876.85 ],\n",
       "       [62876.996],\n",
       "       [68303.484],\n",
       "       [64972.746],\n",
       "       [83722.49 ],\n",
       "       [68606.28 ],\n",
       "       [71076.21 ],\n",
       "       [82358.76 ],\n",
       "       [57734.266],\n",
       "       [74422.734],\n",
       "       [73514.37 ],\n",
       "       [59728.758],\n",
       "       [82964.34 ],\n",
       "       [76494.68 ],\n",
       "       [82226.58 ],\n",
       "       [74049.28 ],\n",
       "       [67927.97 ],\n",
       "       [77711.58 ],\n",
       "       [86247.46 ],\n",
       "       [89530.57 ],\n",
       "       [65625.95 ],\n",
       "       [59012.125],\n",
       "       [83872.73 ],\n",
       "       [60147.016],\n",
       "       [72093.06 ],\n",
       "       [75752.11 ],\n",
       "       [68806.914],\n",
       "       [75331.125],\n",
       "       [57734.266],\n",
       "       [74184.52 ],\n",
       "       [80471.26 ],\n",
       "       [87458.625],\n",
       "       [85944.664],\n",
       "       [70254.58 ],\n",
       "       [80079.37 ],\n",
       "       [60788.316],\n",
       "       [79671.05 ],\n",
       "       [61386.855],\n",
       "       [70737.12 ],\n",
       "       [80062.945],\n",
       "       [64717.582],\n",
       "       [65578.35 ],\n",
       "       [79219.83 ],\n",
       "       [75432.38 ],\n",
       "       [85641.875],\n",
       "       [90741.75 ],\n",
       "       [59728.758],\n",
       "       [66789.516],\n",
       "       [63203.613],\n",
       "       [89227.78 ],\n",
       "       [81442.79 ],\n",
       "       [66198.234],\n",
       "       [81147.586],\n",
       "       [78307.625],\n",
       "       [62598.03 ],\n",
       "       [85036.29 ],\n",
       "       [72928.445],\n",
       "       [89530.57 ],\n",
       "       [70737.125],\n",
       "       [84430.7  ],\n",
       "       [61373.242],\n",
       "       [83411.31 ],\n",
       "       [63184.574],\n",
       "       [59342.895],\n",
       "       [65233.49 ],\n",
       "       [83569.92 ],\n",
       "       [83794.15 ],\n",
       "       [78103.46 ],\n",
       "       [68394.34 ],\n",
       "       [86741.57 ],\n",
       "       [88622.195],\n",
       "       [68606.28 ],\n",
       "       [79522.61 ],\n",
       "       [61992.438],\n",
       "       [57117.754],\n",
       "       [74553.625],\n",
       "       [71309.27 ],\n",
       "       [78917.03 ],\n",
       "       [86349.68 ],\n",
       "       [66183.93 ],\n",
       "       [68545.8  ],\n",
       "       [84127.9  ],\n",
       "       [65578.35 ],\n",
       "       [61992.438],\n",
       "       [65275.55 ],\n",
       "       [72484.96 ],\n",
       "       [73792.64 ],\n",
       "       [76462.02 ],\n",
       "       [74049.28 ],\n",
       "       [80863.15 ],\n",
       "       [80128.195],\n",
       "       [72653.59 ],\n",
       "       [65012.215],\n",
       "       [64751.105],\n",
       "       [62674.848],\n",
       "       [71888.91 ],\n",
       "       [58699.36 ],\n",
       "       [68545.8  ],\n",
       "       [62674.848],\n",
       "       [83010.36 ],\n",
       "       [64972.746],\n",
       "       [60147.016],\n",
       "       [60023.727],\n",
       "       [65488.35 ],\n",
       "       [84782.1  ],\n",
       "       [79825.41 ],\n",
       "       [70231.26 ],\n",
       "       [79135.89 ],\n",
       "       [64972.746],\n",
       "       [68753.75 ],\n",
       "       [62491.13 ],\n",
       "       [60788.316],\n",
       "       [79279.15 ],\n",
       "       [77147.88 ],\n",
       "       [84430.695],\n",
       "       [63184.574],\n",
       "       [70534.04 ],\n",
       "       [80830.36 ],\n",
       "       [72653.59 ],\n",
       "       [57352.246],\n",
       "       [83569.92 ],\n",
       "       [77711.58 ],\n",
       "       [76216.17 ],\n",
       "       [65233.49 ],\n",
       "       [83214.52 ],\n",
       "       [59181.918],\n",
       "       [70534.04 ],\n",
       "       [68139.48 ],\n",
       "       [69929.44 ],\n",
       "       [67395.1  ],\n",
       "       [64064.383],\n",
       "       [83108.516],\n",
       "       [77403.07 ],\n",
       "       [63439.438],\n",
       "       [58103.75 ],\n",
       "       [61112.117],\n",
       "       [88319.41 ],\n",
       "       [77783.74 ],\n",
       "       [65165.598],\n",
       "       [71076.21 ],\n",
       "       [61386.855],\n",
       "       [89530.57 ],\n",
       "       [79397.02 ],\n",
       "       [74298.766],\n",
       "       [77523.84 ],\n",
       "       [75896.46 ],\n",
       "       [64972.746],\n",
       "       [68120.9  ],\n",
       "       [82430.74 ],\n",
       "       [59617.703],\n",
       "       [75360.21 ],\n",
       "       [72048.016],\n",
       "       [71497.01 ],\n",
       "       [76535.9  ],\n",
       "       [78495.35 ],\n",
       "       [73325.23 ],\n",
       "       [81147.586],\n",
       "       [65275.55 ],\n",
       "       [80431.   ],\n",
       "       [84478.31 ],\n",
       "       [65494.773],\n",
       "       [71309.27 ],\n",
       "       [77688.25 ],\n",
       "       [79279.15 ],\n",
       "       [79522.61 ],\n",
       "       [70321.33 ],\n",
       "       [69928.46 ],\n",
       "       [56862.88 ],\n",
       "       [79091.42 ],\n",
       "       [80062.945],\n",
       "       [69289.47 ],\n",
       "       [65488.35 ],\n",
       "       [69772.02 ],\n",
       "       [80079.37 ],\n",
       "       [62165.125],\n",
       "       [77205.695],\n",
       "       [87155.83 ],\n",
       "       [73211.57 ],\n",
       "       [74298.766],\n",
       "       [75896.46 ],\n",
       "       [80844.79 ],\n",
       "       [65928.75 ],\n",
       "       [61131.676],\n",
       "       [79279.15 ],\n",
       "       [82822.64 ],\n",
       "       [78495.35 ],\n",
       "       [75496.92 ],\n",
       "       [65275.55 ],\n",
       "       [86550.25 ],\n",
       "       [75360.21 ],\n",
       "       [66615.586],\n",
       "       [82038.84 ],\n",
       "       [86349.68 ],\n",
       "       [81255.055],\n",
       "       [77319.68 ],\n",
       "       [69028.35 ],\n",
       "       [83214.52 ],\n",
       "       [81646.95 ],\n",
       "       [84478.31 ],\n",
       "       [79671.05 ],\n",
       "       [70883.27 ],\n",
       "       [62820.895],\n",
       "       [86853.04 ],\n",
       "       [85641.875],\n",
       "       [70584.8  ],\n",
       "       [87761.42 ],\n",
       "       [79397.02 ],\n",
       "       [84782.1  ],\n",
       "       [77783.74 ],\n",
       "       [73792.64 ],\n",
       "       [62165.125],\n",
       "       [84197.06 ],\n",
       "       [61434.47 ],\n",
       "       [83794.15 ],\n",
       "       [61112.117],\n",
       "       [63082.023],\n",
       "       [69510.9  ],\n",
       "       [83569.92 ],\n",
       "       [77711.58 ],\n",
       "       [68394.336],\n",
       "       [90438.96 ],\n",
       "       [75896.46 ],\n",
       "       [60147.016],\n",
       "       [59259.15 ],\n",
       "       [79475.   ],\n",
       "       [68941.48 ],\n",
       "       [78887.25 ],\n",
       "       [86853.04 ],\n",
       "       [74298.766],\n",
       "       [79671.05 ],\n",
       "       [75633.92 ],\n",
       "       [61594.668],\n",
       "       [71045.445],\n",
       "       [80459.14 ],\n",
       "       [76462.02 ],\n",
       "       [78653.35 ],\n",
       "       [85944.664],\n",
       "       [68063.24 ],\n",
       "       [82344.32 ],\n",
       "       [60890.69 ],\n",
       "       [86550.25 ],\n",
       "       [87903.31 ],\n",
       "       [64047.117],\n",
       "       [85565.88 ],\n",
       "       [70534.04 ],\n",
       "       [64978.63 ],\n",
       "       [77523.84 ],\n",
       "       [63203.613],\n",
       "       [56862.88 ],\n",
       "       [60147.016],\n",
       "       [76797.484],\n",
       "       [81255.05 ],\n",
       "       [84197.06 ],\n",
       "       [60629.566],\n",
       "       [66198.234],\n",
       "       [66789.516],\n",
       "       [60788.316],\n",
       "       [76740.055],\n",
       "       [76494.68 ],\n",
       "       [73441.71 ],\n",
       "       [78887.25 ],\n",
       "       [80863.15 ],\n",
       "       [80988.98 ],\n",
       "       [79921.984],\n",
       "       [77205.695],\n",
       "       [77131.95 ],\n",
       "       [63082.023],\n",
       "       [75936.7  ],\n",
       "       [85944.664],\n",
       "       [69211.86 ],\n",
       "       [79135.89 ],\n",
       "       [82430.74 ],\n",
       "       [79295.586],\n",
       "       [85036.29 ],\n",
       "       [85641.875],\n",
       "       [80863.15 ],\n",
       "       [83998.31 ],\n",
       "       [81327.24 ],\n",
       "       [76740.055],\n",
       "       [72484.96 ],\n",
       "       [73540.62 ],\n",
       "       [78653.35 ],\n",
       "       [78699.52 ],\n",
       "       [80062.94 ],\n",
       "       [68753.75 ],\n",
       "       [71963.34 ],\n",
       "       [75889.1  ],\n",
       "       [70690.34 ],\n",
       "       [80267.09 ],\n",
       "       [64268.547],\n",
       "       [66459.875],\n",
       "       [62338.336],\n",
       "       [70836.83 ],\n",
       "       [62929.707],\n",
       "       [64717.582],\n",
       "       [62295.242],\n",
       "       [85565.88 ],\n",
       "       [78105.21 ],\n",
       "       [69145.66 ],\n",
       "       [60526.09 ],\n",
       "       [78653.35 ],\n",
       "       [84390.2  ],\n",
       "       [81738.75 ],\n",
       "       [62684.062],\n",
       "       [76927.78 ],\n",
       "       [83402.25 ],\n",
       "       [81753.17 ],\n",
       "       [78170.8  ],\n",
       "       [71442.42 ],\n",
       "       [85944.664],\n",
       "       [75752.11 ],\n",
       "       [60533.453],\n",
       "       [60278.598],\n",
       "       [59259.15 ],\n",
       "       [58406.535],\n",
       "       [76740.055],\n",
       "       [70883.27 ],\n",
       "       [73211.57 ],\n",
       "       [74444.44 ],\n",
       "       [61855.79 ],\n",
       "       [70790.59 ],\n",
       "       [62900.82 ],\n",
       "       [67373.91 ],\n",
       "       [68139.48 ],\n",
       "       [77688.25 ],\n",
       "       [76797.48 ],\n",
       "       [83998.31 ],\n",
       "       [77688.25 ],\n",
       "       [57627.473],\n",
       "       [60788.316],\n",
       "       [68394.34 ],\n",
       "       [56374.074],\n",
       "       [74531.82 ],\n",
       "       [81255.055],\n",
       "       [87903.31 ],\n",
       "       [62559.773],\n",
       "       [85173.99 ],\n",
       "       [69993.445],\n",
       "       [67762.39 ],\n",
       "       [65494.773],\n",
       "       [60408.137],\n",
       "       [81646.95 ],\n",
       "       [70836.83 ],\n",
       "       [75752.11 ],\n",
       "       [76535.9  ],\n",
       "       [74576.414],\n",
       "       [75432.38 ],\n",
       "       [78566.625],\n",
       "       [74725.53 ],\n",
       "       [90741.75 ],\n",
       "       [57159.312],\n",
       "       [65578.35 ],\n",
       "       [59617.703],\n",
       "       [67884.61 ],\n",
       "       [59920.5  ],\n",
       "       [60788.316],\n",
       "       [75496.92 ],\n",
       "       [76144.   ],\n",
       "       [80844.79 ],\n",
       "       [86954.19 ],\n",
       "       [74531.82 ],\n",
       "       [69145.66 ],\n",
       "       [69289.47 ],\n",
       "       [81753.17 ],\n",
       "       [69772.02 ],\n",
       "       [73975.38 ],\n",
       "       [64367.18 ],\n",
       "       [76494.68 ],\n",
       "       [72350.805],\n",
       "       [60526.09 ],\n",
       "       [81834.67 ],\n",
       "       [86349.68 ],\n",
       "       [57159.312],\n",
       "       [86550.25 ],\n",
       "       [82226.58 ],\n",
       "       [77783.74 ],\n",
       "       [90136.16 ],\n",
       "       [69625.67 ],\n",
       "       [79397.02 ],\n",
       "       [62674.848],\n",
       "       [65928.75 ],\n",
       "       [66789.516],\n",
       "       [89833.37 ],\n",
       "       [78008.64 ],\n",
       "       [83214.52 ],\n",
       "       [60114.62 ],\n",
       "       [59012.125],\n",
       "       [73514.37 ],\n",
       "       [75112.67 ],\n",
       "       [65494.773],\n",
       "       [72908.77 ],\n",
       "       [83402.25 ],\n",
       "       [85957.78 ],\n",
       "       [62295.242],\n",
       "       [57159.312],\n",
       "       [66133.04 ],\n",
       "       [71497.01 ],\n",
       "       [60526.09 ],\n",
       "       [83872.73 ],\n",
       "       [80128.2  ],\n",
       "       [62598.03 ],\n",
       "       [82038.84 ],\n",
       "       [62559.773],\n",
       "       [68120.9  ],\n",
       "       [78170.8  ],\n",
       "       [77100.27 ],\n",
       "       [62674.848],\n",
       "       [76740.055],\n",
       "       [84197.06 ],\n",
       "       [74049.28 ],\n",
       "       [70534.04 ],\n",
       "       [62419.99 ],\n",
       "       [88924.98 ],\n",
       "       [76999.96 ],\n",
       "       [60533.453],\n",
       "       [86741.57 ],\n",
       "       [86550.25 ],\n",
       "       [73347.71 ],\n",
       "       [82200.14 ],\n",
       "       [58699.36 ],\n",
       "       [65012.215],\n",
       "       [65494.773],\n",
       "       [68000.695],\n",
       "       [80863.15 ],\n",
       "       [77705.85 ],\n",
       "       [78710.81 ],\n",
       "       [65488.35 ],\n",
       "       [79295.586],\n",
       "       [82038.84 ],\n",
       "       [78170.8  ],\n",
       "       [80659.   ],\n",
       "       [72350.805],\n",
       "       [69514.66 ],\n",
       "       [74576.414],\n",
       "       [71745.21 ],\n",
       "       [59259.15 ],\n",
       "       [59514.01 ],\n",
       "       [57734.266],\n",
       "       [71045.445],\n",
       "       [83872.73 ],\n",
       "       [76723.14 ],\n",
       "       [60147.016],\n",
       "       [79671.05 ],\n",
       "       [68303.49 ],\n",
       "       [77131.95 ],\n",
       "       [70581.66 ],\n",
       "       [77733.664],\n",
       "       [77915.734],\n",
       "       [77205.695],\n",
       "       [84175.52 ],\n",
       "       [70321.33 ],\n",
       "       [78653.35 ],\n",
       "       [60023.727],\n",
       "       [80863.15 ],\n",
       "       [75360.21 ],\n",
       "       [82430.74 ],\n",
       "       [74576.414],\n",
       "       [77403.07 ],\n",
       "       [59204.832],\n",
       "       [85036.29 ],\n",
       "       [63203.613],\n",
       "       [85173.99 ],\n",
       "       [68545.8  ],\n",
       "       [89227.78 ],\n",
       "       [81050.89 ],\n",
       "       [75331.125],\n",
       "       [60526.09 ],\n",
       "       [82200.14 ],\n",
       "       [65233.49 ],\n",
       "       [82430.74 ],\n",
       "       [69993.445],\n",
       "       [61373.242],\n",
       "       [61084.066],\n",
       "       [79687.48 ],\n",
       "       [77217.266],\n",
       "       [65012.23 ],\n",
       "       [83108.516],\n",
       "       [74049.28 ],\n",
       "       [64669.97 ],\n",
       "       [83714.11 ],\n",
       "       [74576.414],\n",
       "       [85339.07 ],\n",
       "       [84175.52 ],\n",
       "       [77705.85 ],\n",
       "       [81753.17 ],\n",
       "       [76927.78 ],\n",
       "       [62948.438],\n",
       "       [77403.07 ],\n",
       "       [65358.52 ],\n",
       "       [71105.125],\n",
       "       [69929.44 ],\n",
       "       [64978.63 ],\n",
       "       [76740.055],\n",
       "       [76944.57 ],\n",
       "       [76723.14 ],\n",
       "       [58709.33 ],\n",
       "       [70476.   ],\n",
       "       [81050.89 ],\n",
       "       [60828.875],\n",
       "       [80863.15 ],\n",
       "       [77523.84 ],\n",
       "       [71139.625],\n",
       "       [65578.35 ],\n",
       "       [75228.22 ],\n",
       "       [71219.67 ],\n",
       "       [78495.35 ],\n",
       "       [81255.05 ],\n",
       "       [62491.13 ],\n",
       "       [78566.625],\n",
       "       [59514.01 ],\n",
       "       [78311.44 ],\n",
       "       [64529.664],\n",
       "       [84733.5  ],\n",
       "       [62298.207],\n",
       "       [86741.57 ],\n",
       "       [63506.41 ],\n",
       "       [69625.67 ],\n",
       "       [71480.79 ],\n",
       "       [60408.137],\n",
       "       [86550.25 ],\n",
       "       [75360.21 ],\n",
       "       [85957.78 ],\n",
       "       [68000.695],\n",
       "       [77711.58 ],\n",
       "       [66133.04 ],\n",
       "       [57372.61 ],\n",
       "       [74808.49 ],\n",
       "       [65275.55 ],\n",
       "       [68120.9  ],\n",
       "       [65488.35 ],\n",
       "       [73411.   ],\n",
       "       [73792.64 ],\n",
       "       [77205.695],\n",
       "       [86247.46 ],\n",
       "       [57627.473],\n",
       "       [80062.945],\n",
       "       [58406.535],\n",
       "       [68063.24 ],\n",
       "       [79777.8  ],\n",
       "       [77319.68 ],\n",
       "       [65578.35 ],\n",
       "       [79295.586],\n",
       "       [86247.46 ],\n",
       "       [81834.67 ],\n",
       "       [79279.15 ],\n",
       "       [84430.695],\n",
       "       [76608.07 ],\n",
       "       [76927.78 ],\n",
       "       [70534.04 ],\n",
       "       [68000.695],\n",
       "       [80863.15 ],\n",
       "       [71888.91 ],\n",
       "       [76144.   ],\n",
       "       [87411.016],\n",
       "       [71963.34 ],\n",
       "       [60114.62 ],\n",
       "       [84478.31 ],\n",
       "       [79522.61 ],\n",
       "       [81255.055],\n",
       "       [84782.1  ],\n",
       "       [79619.19 ],\n",
       "       [62027.242],\n",
       "       [70836.83 ],\n",
       "       [68753.75 ],\n",
       "       [60408.137],\n",
       "       [70321.33 ],\n",
       "       [65275.55 ],\n",
       "       [74576.414],\n",
       "       [59921.688],\n",
       "       [56374.074],\n",
       "       [85641.87 ],\n",
       "       [62684.055],\n",
       "       [84430.695],\n",
       "       [85036.29 ],\n",
       "       [80062.945],\n",
       "       [60828.875],\n",
       "       [78311.44 ],\n",
       "       [65323.16 ],\n",
       "       [78614.234],\n",
       "       [80844.79 ],\n",
       "       [75936.7  ],\n",
       "       [71309.27 ],\n",
       "       [75752.11 ],\n",
       "       [62077.223],\n",
       "       [84782.1  ],\n",
       "       [80863.15 ],\n",
       "       [79279.15 ],\n",
       "       [78495.35 ],\n",
       "       [69625.67 ],\n",
       "       [83402.25 ],\n",
       "       [59314.91 ],\n",
       "       [64047.117],\n",
       "       [88319.41 ],\n",
       "       [67395.1  ],\n",
       "       [57861.637],\n",
       "       [80844.79 ],\n",
       "       [71497.01 ],\n",
       "       [69145.66 ],\n",
       "       [62900.82 ],\n",
       "       [81646.95 ],\n",
       "       [85565.88 ],\n",
       "       [76216.17 ],\n",
       "       [65881.14 ],\n",
       "       [66590.12 ],\n",
       "       [83998.31 ],\n",
       "       [84390.2  ],\n",
       "       [56580.516],\n",
       "       [70883.27 ],\n",
       "       [84430.695],\n",
       "       [81147.586],\n",
       "       [83214.52 ],\n",
       "       [70581.66 ],\n",
       "       [59768.863],\n",
       "       [78175.63 ],\n",
       "       [77147.88 ],\n",
       "       [86247.46 ],\n",
       "       [88016.61 ],\n",
       "       [63082.023],\n",
       "       [61992.438],\n",
       "       [69772.02 ],\n",
       "       [78103.46 ],\n",
       "       [62105.273],\n",
       "       [73618.22 ],\n",
       "       [69993.445],\n",
       "       [83794.15 ],\n",
       "       [56862.88 ],\n",
       "       [57372.61 ],\n",
       "       [75112.67 ],\n",
       "       [76740.055],\n",
       "       [78008.64 ],\n",
       "       [69772.02 ],\n",
       "       [59204.832],\n",
       "       [73561.98 ],\n",
       "       [68157.695],\n",
       "       [75936.7  ],\n",
       "       [73618.22 ],\n",
       "       [79671.05 ],\n",
       "       [82038.84 ],\n",
       "       [77319.68 ],\n",
       "       [61131.676],\n",
       "       [62338.336],\n",
       "       [87761.42 ],\n",
       "       [57861.637],\n",
       "       [84782.1  ],\n",
       "       [81050.89 ],\n",
       "       [72093.06 ],\n",
       "       [71442.42 ],\n",
       "       [62105.273],\n",
       "       [68000.695],\n",
       "       [62674.848],\n",
       "       [74576.414],\n",
       "       [75360.21 ],\n",
       "       [85565.88 ],\n",
       "       [75752.11 ],\n",
       "       [62645.64 ],\n",
       "       [60533.453],\n",
       "       [79671.05 ],\n",
       "       [63506.41 ],\n",
       "       [85641.875],\n",
       "       [57734.266],\n",
       "       [69322.875],\n",
       "       [57627.473],\n",
       "       [60788.316],\n",
       "       [62342.85 ],\n",
       "       [64367.18 ],\n",
       "       [60828.875],\n",
       "       [60023.73 ],\n",
       "       [82964.35 ],\n",
       "       [65881.14 ],\n",
       "       [74576.414],\n",
       "       [75496.92 ],\n",
       "       [64717.582],\n",
       "       [76927.78 ],\n",
       "       [73259.18 ],\n",
       "       [75979.47 ],\n",
       "       [83214.52 ],\n",
       "       [82661.555],\n",
       "       [62491.13 ],\n",
       "       [75936.7  ],\n",
       "       [61689.652],\n",
       "       [71745.21 ],\n",
       "       [72928.445],\n",
       "       [59204.832],\n",
       "       [86349.68 ],\n",
       "       [84197.06 ],\n",
       "       [81255.055],\n",
       "       [73792.64 ],\n",
       "       [69028.35 ],\n",
       "       [74184.52 ],\n",
       "       [75504.56 ],\n",
       "       [85173.99 ],\n",
       "       [78408.016],\n",
       "       [68909.07 ],\n",
       "       [78917.03 ],\n",
       "       [79475.   ],\n",
       "       [78566.625],\n",
       "       [80471.26 ],\n",
       "       [82055.96 ],\n",
       "       [85339.08 ],\n",
       "       [86349.68 ],\n",
       "       [71139.625],\n",
       "       [64972.746],\n",
       "       [83872.73 ],\n",
       "       [74049.28 ],\n",
       "       [64978.63 ],\n",
       "       [78175.63 ],\n",
       "       [82430.74 ],\n",
       "       [80062.945],\n",
       "       [67697.9  ],\n",
       "       [58699.36 ],\n",
       "       [85641.875],\n",
       "       [74049.28 ],\n",
       "       [80454.84 ],\n",
       "       [67373.91 ],\n",
       "       [75936.7  ],\n",
       "       [62876.996],\n",
       "       [81594.56 ],\n",
       "       [85339.07 ],\n",
       "       [72484.96 ],\n",
       "       [76797.48 ],\n",
       "       [85339.07 ],\n",
       "       [64112.   ],\n",
       "       [87903.31 ],\n",
       "       [80267.09 ],\n",
       "       [63506.41 ],\n",
       "       [87458.625],\n",
       "       [70254.58 ],\n",
       "       [62295.242],\n",
       "       [86247.46 ],\n",
       "       [79671.05 ],\n",
       "       [77915.734],\n",
       "       [69322.87 ],\n",
       "       [76144.   ],\n",
       "       [86741.57 ],\n",
       "       [72445.9  ],\n",
       "       [80686.18 ],\n",
       "       [63439.438],\n",
       "       [72876.85 ],\n",
       "       [63506.41 ],\n",
       "       [86550.25 ],\n",
       "       [80659.   ],\n",
       "       [82041.52 ],\n",
       "       [74184.52 ],\n",
       "       [78103.46 ],\n",
       "       [73660.64 ],\n",
       "       [71480.79 ],\n",
       "       [79875.195],\n",
       "       [70790.59 ],\n",
       "       [78175.63 ],\n",
       "       [65881.14 ],\n",
       "       [69929.44 ],\n",
       "       [75112.67 ],\n",
       "       [60828.875],\n",
       "       [71045.445],\n",
       "       [72445.9  ],\n",
       "       [62491.13 ],\n",
       "       [65233.49 ],\n",
       "       [74531.82 ],\n",
       "       [65650.49 ],\n",
       "       [62040.05 ],\n",
       "       [79825.41 ],\n",
       "       [76723.14 ],\n",
       "       [78653.36 ],\n",
       "       [91044.54 ],\n",
       "       [68909.07 ],\n",
       "       [78103.46 ],\n",
       "       [78008.64 ],\n",
       "       [84478.31 ],\n",
       "       [68753.75 ],\n",
       "       [81450.38 ],\n",
       "       [90741.75 ],\n",
       "       [68120.91 ]], dtype=float32)"
      ]
     },
     "execution_count": 43,
     "metadata": {},
     "output_type": "execute_result"
    }
   ],
   "source": [
    "y_pred"
   ]
  },
  {
   "cell_type": "markdown",
   "id": "b63df559-e749-4962-b50d-6ecab603c3a2",
   "metadata": {},
   "source": [
    "#### Model Tuning"
   ]
  },
  {
   "cell_type": "markdown",
   "id": "2d65727a-a828-41a9-9b08-e2c84df746d2",
   "metadata": {},
   "source": [
    "Below is the model being tuned using GridSearchCV from scikit-learn and evaluates its performance. KerasRegressor is used as a wrapper for using Keras models with scikit-learn, it wraps the neural network model. The make_scorer creates a custom scoring metric and mae is the evaluation metric used defining that lower is better. Param_grid is used to define the hyperparameters to be tuned."
   ]
  },
  {
   "cell_type": "code",
   "execution_count": 44,
   "id": "9afba07e-aa9a-438a-acea-91239bd88527",
   "metadata": {},
   "outputs": [],
   "source": [
    "from sklearn.model_selection import GridSearchCV\n",
    "from scikeras.wrappers import KerasRegressor\n",
    "from sklearn.metrics import make_scorer, mean_absolute_error"
   ]
  },
  {
   "cell_type": "code",
   "execution_count": 45,
   "id": "16f899fb-0512-4009-8857-485ed8aead69",
   "metadata": {},
   "outputs": [
    {
     "ename": "NameError",
     "evalue": "name 'neaural_model' is not defined",
     "output_type": "error",
     "traceback": [
      "\u001b[1;31m---------------------------------------------------------------------------\u001b[0m",
      "\u001b[1;31mNameError\u001b[0m                                 Traceback (most recent call last)",
      "Cell \u001b[1;32mIn[45], line 1\u001b[0m\n\u001b[1;32m----> 1\u001b[0m tunned_model \u001b[38;5;241m=\u001b[39m KerasRegressor(model\u001b[38;5;241m=\u001b[39mneaural_model, verbose\u001b[38;5;241m=\u001b[39m\u001b[38;5;241m0\u001b[39m)\n",
      "\u001b[1;31mNameError\u001b[0m: name 'neaural_model' is not defined"
     ]
    }
   ],
   "source": [
    "tunned_model = KerasRegressor(model=neaural_model, verbose=0)"
   ]
  },
  {
   "cell_type": "code",
   "execution_count": null,
   "id": "7398c7d2-a944-4a57-a9a8-12ec3173e194",
   "metadata": {},
   "outputs": [],
   "source": [
    "param_grid = {\n",
    "    'model__neurons': [16, 32, 64],\n",
    "    'model__activation': ['relu', 'tanh'],\n",
    "    'model__optimizer': ['adam', 'rmsprop'],\n",
    "    'batch_size': [16, 32, 64],\n",
    "    'epochs': [50, 100]\n",
    "}"
   ]
  },
  {
   "cell_type": "code",
   "execution_count": null,
   "id": "38f27545-49fa-4f06-bcd1-a8ffafea02be",
   "metadata": {},
   "outputs": [],
   "source": [
    "scoring = make_scorer(mean_absolute_error, greater_is_better=False)\n",
    "grid = GridSearchCV(estimator=tunned_model, param_grid = param_grid, cv=3, verbose=2, n_jobs=1, scoring=scoring)\n",
    "grid_result = grid.fit(X_train, y_train)"
   ]
  },
  {
   "cell_type": "code",
   "execution_count": null,
   "id": "06cead6a-383a-410f-b61c-bd154693ae35",
   "metadata": {},
   "outputs": [],
   "source": [
    "print(\"Best: %f using %s\" % (grid_result.best_score_, grid_result.best_params_))"
   ]
  },
  {
   "cell_type": "code",
   "execution_count": null,
   "id": "d45aae2a-a8a5-4b63-b566-fe7bef69170f",
   "metadata": {},
   "outputs": [],
   "source": [
    "best_model = grid_result.best_estimator_\n",
    "mae = best_model.score(X_test, y_test)\n",
    "print(f'Test MAE: {mae}')"
   ]
  },
  {
   "cell_type": "code",
   "execution_count": null,
   "id": "8156d567-a8c8-4316-94d8-fe9c55de2205",
   "metadata": {},
   "outputs": [],
   "source": [
    "print(f\"Mean Squared Error: {loss}\")\n",
    "print(f\"Mean Absolute Error: {mae}\")"
   ]
  },
  {
   "cell_type": "code",
   "execution_count": null,
   "id": "2fcd6bb2-63c7-4760-ae58-eaffd2078ad2",
   "metadata": {},
   "outputs": [],
   "source": [
    "bestpred = predictions = best_model.predict(X_test)"
   ]
  },
  {
   "cell_type": "code",
   "execution_count": null,
   "id": "205fc5f2-df47-4204-8a23-4bbd0f8d2189",
   "metadata": {},
   "outputs": [],
   "source": [
    "bestpred"
   ]
  },
  {
   "cell_type": "code",
   "execution_count": null,
   "id": "4d13f8c0-f024-49bf-9754-b7043aaec31d",
   "metadata": {},
   "outputs": [],
   "source": [
    "input_feat = np.array([[200, 100, 4.0]])\n",
    "predicted_income = best_model.predict(input_feat.reshape(1,3), batch_size=1)*1000\n",
    "print(predicted_income)"
   ]
  },
  {
   "cell_type": "code",
   "execution_count": null,
   "id": "7abfe781-b0a6-4e0c-b68a-48a392893932",
   "metadata": {},
   "outputs": [],
   "source": [
    "import random"
   ]
  },
  {
   "cell_type": "code",
   "execution_count": null,
   "id": "ed61ac3d-9de8-416d-8800-37fa626718a7",
   "metadata": {},
   "outputs": [],
   "source": [
    "def random_data_generator(X):\n",
    "    random_data = []\n",
    "    for feature in X.columns:\n",
    "        random_data.append(random.choice(X[feature]))\n",
    "    return [random_data]\n",
    "\n",
    "random_data = random_data_generator(X)"
   ]
  },
  {
   "cell_type": "code",
   "execution_count": null,
   "id": "abf7f299-28a8-40c5-b0c7-46b7a81529c9",
   "metadata": {},
   "outputs": [],
   "source": [
    "print(random_data)"
   ]
  },
  {
   "cell_type": "code",
   "execution_count": null,
   "id": "4b3d5b8c-5456-4cb6-b4a5-eef0b4d94cf0",
   "metadata": {},
   "outputs": [],
   "source": [
    "print(best_model.predict(random_data)*1000)"
   ]
  },
  {
   "cell_type": "code",
   "execution_count": null,
   "id": "6cca6990-e203-474c-8c00-1557ac8d00ed",
   "metadata": {},
   "outputs": [],
   "source": [
    "r2 = r2_score(y_test, y_pred)"
   ]
  },
  {
   "cell_type": "code",
   "execution_count": null,
   "id": "73f2519b-c978-4fa6-983c-443d35c701b0",
   "metadata": {},
   "outputs": [],
   "source": [
    "r2"
   ]
  },
  {
   "cell_type": "markdown",
   "id": "dd7b6efa-3c8f-49c5-843d-fcf6fd7fd444",
   "metadata": {},
   "source": [
    "From cell 48, it simply outputs of the best score found during the grid search tuning method and returns model's best parameters and evaluation using mae. The mean squared error in loss and mae are calculated. Following that the model is used for prediction using values that does not exist in the used dataset which still generates an output and also predicts using random values from the used dataset."
   ]
  },
  {
   "cell_type": "markdown",
   "id": "31e37527-9273-44e9-9679-e33b71869297",
   "metadata": {},
   "source": [
    "#### Standard ML regressor (Linear Regression): "
   ]
  },
  {
   "cell_type": "markdown",
   "id": "99672c60-1399-42f1-9a9e-c68dbe8b2ae3",
   "metadata": {},
   "source": [
    "Below, A linear regression with scikit-learn is used below to evaluate the model's performance on both the training and test datasets."
   ]
  },
  {
   "cell_type": "code",
   "execution_count": null,
   "id": "8669100e-f83e-43c8-a9f8-06800d30474d",
   "metadata": {},
   "outputs": [],
   "source": [
    "from sklearn.linear_model import LinearRegression"
   ]
  },
  {
   "cell_type": "code",
   "execution_count": null,
   "id": "51fb0728-d1ec-4526-8d98-24b38dede054",
   "metadata": {},
   "outputs": [],
   "source": [
    "linreg = LinearRegression()"
   ]
  },
  {
   "cell_type": "code",
   "execution_count": null,
   "id": "746dcdfd-d878-4f93-91b6-7a31cda7bd6e",
   "metadata": {},
   "outputs": [],
   "source": [
    "linreg.fit(X_train, y_train)"
   ]
  },
  {
   "cell_type": "code",
   "execution_count": null,
   "id": "49f596bb-fa78-44d7-990a-40018e69dd03",
   "metadata": {},
   "outputs": [],
   "source": [
    "linreg.score(X_test, y_test)"
   ]
  },
  {
   "cell_type": "markdown",
   "id": "e0d8b186-85e1-487d-86dc-2fef8b1cbad0",
   "metadata": {},
   "source": [
    "The value of 0.035892172268995215 shows that the model predicts roughly 3.59% of the variance in the test data."
   ]
  },
  {
   "cell_type": "code",
   "execution_count": null,
   "id": "14f26d6c-3865-4d87-870b-4ade05a9d2a8",
   "metadata": {},
   "outputs": [],
   "source": [
    "linreg.score(X_train, y_train)"
   ]
  },
  {
   "cell_type": "code",
   "execution_count": null,
   "id": "9ef5e314-cac6-420b-bb13-1fc9cb840d37",
   "metadata": {},
   "outputs": [],
   "source": [
    "from sklearn.metrics import mean_absolute_error, mean_squared_error, r2_score"
   ]
  },
  {
   "cell_type": "code",
   "execution_count": null,
   "id": "1e13bd9e-84f5-4a3c-8fbe-b8e852fbc265",
   "metadata": {},
   "outputs": [],
   "source": [
    "y_pred = linreg.predict(X_test)"
   ]
  },
  {
   "cell_type": "code",
   "execution_count": null,
   "id": "205dedb0-b19d-4d6e-997c-ad353910e95e",
   "metadata": {},
   "outputs": [],
   "source": [
    "y_pred"
   ]
  },
  {
   "cell_type": "code",
   "execution_count": null,
   "id": "b0db8021-6bd0-41bf-b183-bef1a073f40f",
   "metadata": {},
   "outputs": [],
   "source": [
    "mean_absolute_error(y_test, y_pred)"
   ]
  },
  {
   "cell_type": "code",
   "execution_count": null,
   "id": "ef88e891-5024-4edb-927a-cf9b189400ba",
   "metadata": {},
   "outputs": [],
   "source": [
    "mean_squared_error(y_test, y_pred)"
   ]
  },
  {
   "cell_type": "markdown",
   "id": "64de746b-096e-48e7-9a61-5370ec2ce738",
   "metadata": {},
   "source": [
    "mean_absolute_error(y_test, y_pred): Returns the mean absolute error (mae) between the actual and predicted test labels.  The mae of 35.8341969646949 implies that, on average, the model's predictions are 35.83 units off. mean_squared_error(y_test, y_pred): Returns the Mean Squared Error (mse) of the actual and predicted test labels. The mse 2025.1543836815754 represents the average squared difference between the actual and anticipated values.\n",
    "These error metrics show that the predictions have major error margins, which suggests that the linear regression model may not be appropriate for this particular scenario.\r\n"
   ]
  },
  {
   "cell_type": "markdown",
   "id": "7422756a-ce18-4bdb-a1fb-32ebfa5e5bc6",
   "metadata": {},
   "source": [
    "##### Model Tunning:"
   ]
  },
  {
   "cell_type": "markdown",
   "id": "10c5f79c-34dd-4170-8018-d72182578453",
   "metadata": {},
   "source": [
    "Below, the code tunes the model via a pipeline that includes standard scaling, polynomial feature creation, feature selection, and linear regression. "
   ]
  },
  {
   "cell_type": "code",
   "execution_count": null,
   "id": "b3da5121-d6d1-449e-bdeb-633f60f786fc",
   "metadata": {},
   "outputs": [],
   "source": [
    "from sklearn.pipeline import Pipeline\n",
    "from sklearn.preprocessing import StandardScaler, PolynomialFeatures\n",
    "from sklearn.feature_selection import RFE"
   ]
  },
  {
   "cell_type": "code",
   "execution_count": null,
   "id": "ce6ff37e-ee35-4930-861f-1a705e92bfeb",
   "metadata": {},
   "outputs": [],
   "source": [
    "pipe = Pipeline([\n",
    "    ('scaler', StandardScaler()),\n",
    "    ('poly', PolynomialFeatures(degree=2, include_bias=False)),\n",
    "    ('feat_selec', RFE(LinearRegression())),\n",
    "    ('lr', LinearRegression())\n",
    "])"
   ]
  },
  {
   "cell_type": "markdown",
   "id": "8973c219-d4a7-4935-a786-b50a791dfc19",
   "metadata": {},
   "source": [
    "Pipeline: A collection of stages that can be cross-validated together while using various parameters.\n",
    "StandardScaler: Normalizes features by eliminating the mean and scaling to unit variance.\n",
    "PolynomialFeatures: Creates polynomial and interaction features.\n",
    "Recursive Feature Elimination selects features by iteratively considering fewer and smaller sets of features.\n",
    "LinearRegression: Scikit-learn's linear regression model.\n"
   ]
  },
  {
   "cell_type": "code",
   "execution_count": null,
   "id": "6267ae33-8ff8-4902-8fa0-843b7e859cbf",
   "metadata": {},
   "outputs": [],
   "source": [
    "param_grid = {\n",
    "    'poly__degree': [1, 2, 3],\n",
    "    'feat_selec__n_features_to_select': [5, 6, 7, 8, 9, 10]\n",
    "}"
   ]
  },
  {
   "cell_type": "markdown",
   "id": "520131f0-3326-450b-94ad-bbc15e1af028",
   "metadata": {},
   "source": [
    "param_grid: Indicates the hyperparameters to be tuned.\r\n",
    "Poly__degree: The number of polynomial characteristics to produce (1, 2, or 3).\r\n",
    "feat_selec__n_features_to_select: The amount of features to select (between 5 and 10).\r\n"
   ]
  },
  {
   "cell_type": "code",
   "execution_count": null,
   "id": "f10c7607-71cf-40fa-ab37-acb51aa81ca0",
   "metadata": {},
   "outputs": [],
   "source": [
    "grid_search = GridSearchCV(pipe, param_grid, cv=5, scoring='neg_mean_absolute_error', n_jobs=-1, verbose=2)"
   ]
  },
  {
   "cell_type": "code",
   "execution_count": null,
   "id": "bcf29321-80a3-4838-8c17-9d4e920beb71",
   "metadata": {},
   "outputs": [],
   "source": [
    "grid_search.fit(X_train, y_train)"
   ]
  },
  {
   "cell_type": "markdown",
   "id": "b74ee669-e24a-4e07-bbb6-721fa05cf765",
   "metadata": {},
   "source": [
    "GridSearchCV: Conducts an exhaustive search across the supplied parameter grid. \n",
    "cv=5 denotes 5-fold cross-validation \r\n",
    "scoring='neg_mean_absolute_error': Scores using negative mean absolute error (greater is better, therefore the negative sign).\r\n",
    "n_jobs=-1: Uses all CPU cores for parallel processing.\r\n",
    "verbose=2: Displays progress messages during the sear\n",
    "ch. grid_search.fit(X_train, y_train): Fits the model to the training data using grid sea\n",
    "ch.\r\n"
   ]
  },
  {
   "cell_type": "code",
   "execution_count": null,
   "id": "8f80d0e7-e9cc-4c94-a974-078016ee77ba",
   "metadata": {},
   "outputs": [],
   "source": [
    "best_linear_model = grid_search.best_estimator_"
   ]
  },
  {
   "cell_type": "code",
   "execution_count": null,
   "id": "5bade284-55ad-4121-9ad1-d606e40902a6",
   "metadata": {},
   "outputs": [],
   "source": [
    "y_pred = best_linear_model.predict(X_test)"
   ]
  },
  {
   "cell_type": "code",
   "execution_count": null,
   "id": "1be6fc6c-ba1a-4656-affc-50531a398487",
   "metadata": {},
   "outputs": [],
   "source": [
    "y_pred"
   ]
  },
  {
   "cell_type": "markdown",
   "id": "6bdfeda8-81cb-4562-b80a-c19ffcab3df5",
   "metadata": {},
   "source": [
    "The function best_linear_model = grid_search.best_estimator_ returns the best model discovered during the grid search. y_pred = best_linear_model.predict(X_test) makes predictions based on the best model and test data.\r\n"
   ]
  },
  {
   "cell_type": "code",
   "execution_count": null,
   "id": "69fd31e9-833e-43ff-8ee3-4ce69abd6ba9",
   "metadata": {},
   "outputs": [],
   "source": [
    "mae = mean_absolute_error(y_test, y_pred)\n",
    "print(f'Test MAE: {mae}')"
   ]
  },
  {
   "cell_type": "code",
   "execution_count": null,
   "id": "58c3f647-3a1f-4b3f-924c-2ae991249814",
   "metadata": {},
   "outputs": [],
   "source": [
    "mean_squared_error(y_test, y_pred)"
   ]
  },
  {
   "cell_type": "code",
   "execution_count": null,
   "id": "eb76c9b0-2489-4028-886f-fcccf647af3b",
   "metadata": {},
   "outputs": [],
   "source": [
    "scaler = StandardScaler()"
   ]
  },
  {
   "cell_type": "code",
   "execution_count": null,
   "id": "8f1d0577-a90d-4119-8c50-b7ee1df06f04",
   "metadata": {},
   "outputs": [],
   "source": [
    "scaler.fit(X_train)"
   ]
  },
  {
   "cell_type": "code",
   "execution_count": null,
   "id": "1673e6d4-b3ce-41d1-897a-793cacd9abae",
   "metadata": {},
   "outputs": [],
   "source": [
    "X = pd.DataFrame([[100, 10, 5.0]], columns=['Age','Experience(Years)','Education'])\n",
    "X_scaled = scaler.transform(X)\n",
    "predicted_income = best_linear_model.predict(X_scaled)*1000\n",
    "print(predicted_income)"
   ]
  },
  {
   "cell_type": "markdown",
   "id": "45528e42-69be-45b0-8e17-f3369cf23ac6",
   "metadata": {},
   "source": [
    "Above, the mae = mean_absolute_error(y_test, y_pred): Returns the mean absolute error of the test predictions. mae: 35.49788624422594. The mae is about 35.50, which represents the average absolute error in predictions, mean_squared_error(y_test, y_pred): Returns the mean squared error of the test predictions 1983.7742108039927: The mse is about 1983.77, which represents the average squared error in predictions.\r\n",
    "Following that StandardScaler: Standardizes the attributes of a new input. X: Generates a new data frame using a sample input. X_scaled equals scaler.transform(X): Scales the new input with the scaler fitted to the training data. Predicted income = best_linear_model.predict(X_scaled)*1000: Predicts the output for the scaled input and multiplies by 1000 to interpret the result in the chosen scale. Predicted income based on the input attributes..\r\n",
    "\n",
    "ns.\r\n"
   ]
  },
  {
   "cell_type": "markdown",
   "id": "c0a799a6-107f-452d-97f0-7209276363c2",
   "metadata": {},
   "source": [
    "The tuned model performs slightly better than the previous linear regression model, although the mae remains rather high. Feature engineering and polynomial features help improve the model, but future advances might require advanced models or feature engineering. Pipelines and GridSearchCV enable the effective integration of preprocessing, feature selection, and model tuning into a single workflow."
   ]
  },
  {
   "cell_type": "markdown",
   "id": "5bafbf3c-84c0-49f2-9a1d-7472e882af07",
   "metadata": {},
   "source": [
    "##### Neural vs Linear Regression\n",
    "The neural network, particularly after hyperparameter tuning, had a lower mae than the linear regression model. However, neural networks can be complex, needing more computer resources and careful hyperparameter tuning. The linear regression model is simpler and uses less computing power and achieved a slightly higher mae than the tuned neural network.\n",
    "If the goal is to reach the highest prediction accuracy and computational resources are not limited, the tuned neural network model should be used."
   ]
  },
  {
   "cell_type": "markdown",
   "id": "de5e2f03-be62-4aaa-90af-dbb113b22d27",
   "metadata": {},
   "source": [
    "#### SEMANTIC/SENTIMENT ANALYSIS"
   ]
  },
  {
   "cell_type": "markdown",
   "id": "d5d1cdc6-033b-4c37-8acc-adcecde4b7c1",
   "metadata": {},
   "source": [
    "#### Importing necessary Libraries:"
   ]
  },
  {
   "cell_type": "code",
   "execution_count": null,
   "id": "3ddd4d04-3008-4f90-95dc-42af947ef37f",
   "metadata": {},
   "outputs": [],
   "source": [
    "import re\n",
    "import string\n",
    "from string import punctuation\n",
    "import nltk\n",
    "from nltk.corpus import stopwords\n",
    "nltk.download('stopwords')\n",
    "from sklearn.feature_extraction.text import CountVectorizer\n",
    "from sklearn.feature_extraction.text import TfidfTransformer\n",
    "from tensorflow.keras.layers import Dropout"
   ]
  },
  {
   "cell_type": "markdown",
   "id": "04f3f122-1c3f-4fb0-a08e-f5fa213628b7",
   "metadata": {},
   "source": [
    "#### Loading CSV file:"
   ]
  },
  {
   "cell_type": "markdown",
   "id": "10a6edd1-a2b9-4fa6-b207-188e00968761",
   "metadata": {},
   "source": [
    "###### facebook_reviews.csv source: https://www.kaggle.com/datasets/ashishkumarak/play-store-reviews-facebook"
   ]
  },
  {
   "cell_type": "code",
   "execution_count": null,
   "id": "582c7514-642b-4ab2-a107-9a5e6f66a56d",
   "metadata": {},
   "outputs": [],
   "source": [
    "facebook_reviews = pd.read_csv('facebook_reviews.csv')"
   ]
  },
  {
   "cell_type": "code",
   "execution_count": null,
   "id": "ccf93174-dc80-488e-837b-f91a2491788d",
   "metadata": {},
   "outputs": [],
   "source": [
    "facebook_reviews.head(10)"
   ]
  },
  {
   "cell_type": "code",
   "execution_count": null,
   "id": "1d5a4a85-4434-4ad4-9105-5795d6050dea",
   "metadata": {},
   "outputs": [],
   "source": [
    "facebook_reviews.shape"
   ]
  },
  {
   "cell_type": "markdown",
   "id": "8ac2174a-9e7a-448d-94eb-fd0e6244bcd5",
   "metadata": {},
   "source": [
    "#### Data Transformation/Feature Engineering:"
   ]
  },
  {
   "cell_type": "code",
   "execution_count": null,
   "id": "9f9c00f0-bcf2-4dfd-81ed-465f86dbd107",
   "metadata": {},
   "outputs": [],
   "source": [
    "facebook_reviews = facebook_reviews.drop(['reviewId', 'userName', 'thumbsUpCount', 'reviewCreatedVersion'], axis=1)\n",
    "facebook_reviews.dropna(inplace=True)"
   ]
  },
  {
   "cell_type": "code",
   "execution_count": null,
   "id": "45663276-2a8e-4b5c-ad13-376ccc7357f8",
   "metadata": {},
   "outputs": [],
   "source": [
    "facebook_reviews.shape"
   ]
  },
  {
   "cell_type": "code",
   "execution_count": null,
   "id": "28212509-7092-4354-aaaf-6e932b4a1f6f",
   "metadata": {},
   "outputs": [],
   "source": [
    "facebook_reviews = facebook_reviews.sample(n=10000, random_state=42).reset_index(drop=True)"
   ]
  },
  {
   "cell_type": "code",
   "execution_count": null,
   "id": "750c8b9e-69d4-4687-8eab-0d5fe8015858",
   "metadata": {},
   "outputs": [],
   "source": [
    "facebook_reviews.shape"
   ]
  },
  {
   "cell_type": "code",
   "execution_count": null,
   "id": "b7e6b76c-faf5-42cb-8690-e537322640ed",
   "metadata": {},
   "outputs": [],
   "source": [
    "facebook_reviews.head()"
   ]
  },
  {
   "cell_type": "code",
   "execution_count": null,
   "id": "0d081d40-1908-44fb-b9ac-5a4f4ec3afe4",
   "metadata": {},
   "outputs": [],
   "source": [
    "facebook_reviews.dtypes"
   ]
  },
  {
   "cell_type": "code",
   "execution_count": null,
   "id": "362107ff-e0c4-4652-a158-66bf46b562db",
   "metadata": {},
   "outputs": [],
   "source": [
    "facebook_reviews['polarity_score'] = facebook_reviews['score'].apply(lambda x: 'Positive' if x>3 else ('Neutral' if x==3 else 'Negative'))"
   ]
  },
  {
   "cell_type": "code",
   "execution_count": null,
   "id": "56dac040-0fa5-4dd8-9f98-39e0ae2f2f28",
   "metadata": {},
   "outputs": [],
   "source": [
    "facebook_reviews"
   ]
  },
  {
   "cell_type": "code",
   "execution_count": null,
   "id": "af237715-59f1-4f04-ab91-575113ce1a6d",
   "metadata": {},
   "outputs": [],
   "source": [
    "sns.set_style('whitegrid') \n",
    "sns.countplot (x= 'score', data=facebook_reviews, palette='pastel')"
   ]
  },
  {
   "cell_type": "code",
   "execution_count": null,
   "id": "bbbf5506-3414-41d4-a0d5-dbc85d73a933",
   "metadata": {},
   "outputs": [],
   "source": [
    "sns.set_style('whitegrid')\n",
    "sns.countplot (x= 'polarity_score', data=facebook_reviews, palette='dark')"
   ]
  },
  {
   "cell_type": "markdown",
   "id": "81a64d9f-31c8-48a1-956f-c5e86723a691",
   "metadata": {},
   "source": [
    "#### Data Pre-processing:"
   ]
  },
  {
   "cell_type": "code",
   "execution_count": null,
   "id": "0c37ae7d-2006-4047-9699-3bcaadff6df8",
   "metadata": {},
   "outputs": [],
   "source": [
    "facebook_reviews_pos = facebook_reviews[facebook_reviews['polarity_score'] == 'Positive'] [0:5000]\n",
    "facebook_reviews_neu = facebook_reviews[facebook_reviews['polarity_score'] == 'Neutral']\n",
    "facebook_reviews_neg = facebook_reviews[facebook_reviews['polarity_score'] == 'Negative']"
   ]
  },
  {
   "cell_type": "code",
   "execution_count": null,
   "id": "0bea48a8-483e-43ad-aa73-537080b33a74",
   "metadata": {},
   "outputs": [],
   "source": [
    "facebook_reviews_neu_over = facebook_reviews_neu.sample(5000, replace=True)\n",
    "facebook_reviews_neg_over = facebook_reviews_neg.sample(5000, replace=True)\n",
    "facebook_reviews = pd.concat([facebook_reviews_pos, facebook_reviews_neu_over, facebook_reviews_neg_over], axis = 0)"
   ]
  },
  {
   "cell_type": "code",
   "execution_count": null,
   "id": "6c34450b-84f2-467b-ba33-f156a4c69381",
   "metadata": {},
   "outputs": [],
   "source": [
    "facebook_reviews.shape"
   ]
  },
  {
   "cell_type": "code",
   "execution_count": null,
   "id": "5a86e778-9157-4118-be11-7deca42fc05a",
   "metadata": {},
   "outputs": [],
   "source": [
    "def process_get_text(text):\n",
    "    stpword = stopwords.words('english')\n",
    "    no_punctuation = [char for char in text if char not in\n",
    "string.punctuation]\n",
    "    no_punctuation = ''.join(no_punctuation)\n",
    "    return ' '.join([word for word in no_punctuation.split() if\n",
    "word.lower() not in stpword])"
   ]
  },
  {
   "cell_type": "code",
   "execution_count": null,
   "id": "cf6b63b8-9e9a-466f-bbd0-331e7dc4b0cb",
   "metadata": {},
   "outputs": [],
   "source": [
    "facebook_reviews['content_text'] = facebook_reviews['content'].apply(process_get_text)"
   ]
  },
  {
   "cell_type": "code",
   "execution_count": null,
   "id": "e1a7a36e-f7e0-4bbf-9591-71536a07c480",
   "metadata": {},
   "outputs": [],
   "source": [
    "facebook_reviews.head()"
   ]
  },
  {
   "cell_type": "code",
   "execution_count": null,
   "id": "60cd258e-362d-4651-8120-1fb55a5f9c08",
   "metadata": {},
   "outputs": [],
   "source": [
    "facebook_reviews = facebook_reviews[['content_text', 'polarity_score']]"
   ]
  },
  {
   "cell_type": "code",
   "execution_count": null,
   "id": "ae528879-a77e-4efe-ba5b-488da09df0ef",
   "metadata": {},
   "outputs": [],
   "source": [
    "facebook_reviews.head()"
   ]
  },
  {
   "cell_type": "code",
   "execution_count": null,
   "id": "656b88f3-3675-44c4-9a8f-90564cf3dfa6",
   "metadata": {},
   "outputs": [],
   "source": [
    "facebook_reviews.shape"
   ]
  },
  {
   "cell_type": "markdown",
   "id": "1276d09d-2fd1-4f0e-91f1-11b4e514b7ec",
   "metadata": {},
   "source": [
    "#### Data Encoding:"
   ]
  },
  {
   "cell_type": "code",
   "execution_count": null,
   "id": "c367a2c3-4d6a-4fd0-85ce-9713f2a9d2f2",
   "metadata": {},
   "outputs": [],
   "source": [
    "from sklearn.preprocessing import OneHotEncoder"
   ]
  },
  {
   "cell_type": "code",
   "execution_count": null,
   "id": "dd941cbf-3b10-4e67-8e8b-0567ddb5b6ce",
   "metadata": {},
   "outputs": [],
   "source": [
    "ohe = OneHotEncoder(sparse_output=False).set_output(transform='pandas')"
   ]
  },
  {
   "cell_type": "code",
   "execution_count": null,
   "id": "623e90f1-5cae-40ef-ad31-49795b1516eb",
   "metadata": {},
   "outputs": [],
   "source": [
    "oh = ohe.fit_transform(facebook_reviews[['polarity_score']])"
   ]
  },
  {
   "cell_type": "code",
   "execution_count": null,
   "id": "79b0b09f-7f5d-4139-9736-1f38cf3d829b",
   "metadata": {},
   "outputs": [],
   "source": [
    "facebook_reviews = pd.concat([facebook_reviews, oh], axis=1).drop(columns = ['polarity_score'])"
   ]
  },
  {
   "cell_type": "code",
   "execution_count": null,
   "id": "edbd0a58-49ba-40c4-b5f1-6ff3a5ec059d",
   "metadata": {},
   "outputs": [],
   "source": [
    "facebook_reviews"
   ]
  },
  {
   "cell_type": "code",
   "execution_count": null,
   "id": "9744f897-4ab3-461f-8909-0570bf657309",
   "metadata": {},
   "outputs": [],
   "source": [
    "# oh = pd.get_dummies(facebook_reviews['polarity_score'])\n",
    "# facebook_reviews.drop('polarity_score', axis=1, inplace=True)\n",
    "# facebook_reviews = pd.concat([facebook_reviews, oh], axis=1)"
   ]
  },
  {
   "cell_type": "code",
   "execution_count": null,
   "id": "11e8d40d-02b5-4977-9492-a9479ca2eb2c",
   "metadata": {},
   "outputs": [],
   "source": [
    "remove_word = ['polarity_score_']"
   ]
  },
  {
   "cell_type": "code",
   "execution_count": null,
   "id": "862d4c38-4801-4c5a-8f3e-70ec3c308f4b",
   "metadata": {},
   "outputs": [],
   "source": [
    "for word in remove_word:\n",
    "    facebook_reviews.columns = facebook_reviews.columns.str.replace(word, '')"
   ]
  },
  {
   "cell_type": "code",
   "execution_count": null,
   "id": "5d416a45-1628-41ef-8986-ce59c2f994de",
   "metadata": {},
   "outputs": [],
   "source": [
    "facebook_reviews.head()"
   ]
  },
  {
   "cell_type": "markdown",
   "id": "83e42406-750b-4723-b58e-35c6c1c34f8d",
   "metadata": {},
   "source": [
    "#### Data Splitting for train and test:"
   ]
  },
  {
   "cell_type": "code",
   "execution_count": null,
   "id": "c818b106-6a8a-4fd4-b13e-12880f755453",
   "metadata": {},
   "outputs": [],
   "source": [
    "X = facebook_reviews['content_text'].values\n",
    "y = facebook_reviews.drop('content_text', axis=1).values"
   ]
  },
  {
   "cell_type": "code",
   "execution_count": null,
   "id": "e5ea06e0-c80b-461a-8a60-be3956e6e67c",
   "metadata": {},
   "outputs": [],
   "source": [
    "X_train, X_test, y_train, y_test = train_test_split(X,y, random_state=17, test_size=0.2)"
   ]
  },
  {
   "cell_type": "markdown",
   "id": "1783dc15-e710-4157-9674-89105520d7ba",
   "metadata": {},
   "source": [
    "#### Data Vectorization:"
   ]
  },
  {
   "cell_type": "code",
   "execution_count": null,
   "id": "d3900057-225a-40e6-9fb9-7a8923e4cccf",
   "metadata": {},
   "outputs": [],
   "source": [
    "vect = CountVectorizer()\n",
    "X_train = vect.fit_transform(X_train)\n",
    "X_test = vect.transform(X_test)"
   ]
  },
  {
   "cell_type": "markdown",
   "id": "86b5934f-0a02-400d-9fdb-119c8c745105",
   "metadata": {},
   "source": [
    "#### Data frequency:"
   ]
  },
  {
   "cell_type": "code",
   "execution_count": null,
   "id": "bdab9e4a-a586-41a2-9449-2da749deb385",
   "metadata": {},
   "outputs": [],
   "source": [
    "tfidf = TfidfTransformer()\n",
    "X_train = tfidf.fit_transform(X_train)\n",
    "X_test = tfidf.transform(X_test)\n",
    "X_train = X_train.toarray()\n",
    "X_test = X_test.toarray()"
   ]
  },
  {
   "cell_type": "markdown",
   "id": "ea84d8b9-d226-4a87-9bd1-73cab1388fd3",
   "metadata": {},
   "source": [
    "#### Semantic Modeling:"
   ]
  },
  {
   "cell_type": "code",
   "execution_count": null,
   "id": "6e3c7b46-8b60-4a9b-b494-3bde0c186aac",
   "metadata": {},
   "outputs": [],
   "source": [
    "model = Sequential()\n",
    "model.add(Dense(units=12673, activation=\"relu\"))\n",
    "model.add(Dropout(0.5))\n",
    "model.add(Dense(units=4000, activation=\"relu\"))\n",
    "model.add(Dropout(0.5))\n",
    "model.add(Dense(units=500, activation=\"relu\"))\n",
    "model.add(Dropout(0.5))\n",
    "model.add(Dense(units=3, activation=\"softmax\"))\n",
    "opt = tf.keras.optimizers.Adam(learning_rate=0.001)\n",
    "model.compile(loss=\"categorical_crossentropy\", optimizer=opt,\n",
    "metrics=[\"accuracy\"])\n",
    "early_stop = EarlyStopping(monitor=\"val_loss\", mode=\"min\", verbose=1,\n",
    "patience=2)"
   ]
  },
  {
   "cell_type": "markdown",
   "id": "bae05071-62e3-4ad2-8b22-6f281ee79ce9",
   "metadata": {},
   "source": [
    "#### Fitting the Model:"
   ]
  },
  {
   "cell_type": "code",
   "execution_count": null,
   "id": "819c6221-7cbf-4410-8ec1-6d6a2f64a747",
   "metadata": {},
   "outputs": [],
   "source": [
    "model.fit(\n",
    "x=X_train,\n",
    "y=y_train,\n",
    "batch_size=256,\n",
    "epochs=100,\n",
    "validation_data=(X_test, y_test),\n",
    "verbose=1,\n",
    "callbacks=early_stop,\n",
    ")"
   ]
  },
  {
   "cell_type": "code",
   "execution_count": null,
   "id": "4093d4f3-4128-4477-9439-77e07ed6a2db",
   "metadata": {},
   "outputs": [],
   "source": [
    "model_score = model.evaluate(X_test, y_test, batch_size=64, verbose=1)\n",
    "print(\"Test accuracy:\", model_score[1])"
   ]
  },
  {
   "cell_type": "code",
   "execution_count": null,
   "id": "cddffb7a-5fe2-4d2e-adc4-df337d3a391f",
   "metadata": {},
   "outputs": [],
   "source": [
    "preds = model.predict(X_test)"
   ]
  },
  {
   "cell_type": "code",
   "execution_count": null,
   "id": "61b5af53-25e9-4412-af7e-1ea73a331f88",
   "metadata": {},
   "outputs": [],
   "source": [
    "preds"
   ]
  },
  {
   "cell_type": "code",
   "execution_count": null,
   "id": "cbf077f7-3e3a-4e96-8aec-99a9066c1e17",
   "metadata": {},
   "outputs": [],
   "source": []
  }
 ],
 "metadata": {
  "kernelspec": {
   "display_name": "Python 3 (ipykernel)",
   "language": "python",
   "name": "python3"
  },
  "language_info": {
   "codemirror_mode": {
    "name": "ipython",
    "version": 3
   },
   "file_extension": ".py",
   "mimetype": "text/x-python",
   "name": "python",
   "nbconvert_exporter": "python",
   "pygments_lexer": "ipython3",
   "version": "3.11.7"
  }
 },
 "nbformat": 4,
 "nbformat_minor": 5
}
