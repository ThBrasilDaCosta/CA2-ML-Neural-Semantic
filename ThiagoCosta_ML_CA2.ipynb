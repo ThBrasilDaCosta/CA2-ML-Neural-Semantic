{
 "cells": [
  {
   "cell_type": "markdown",
   "id": "be537e01-c028-4dc6-b59e-205b4a6440b4",
   "metadata": {},
   "source": [
    "# Name: Thiago de Oliveira da Costa StId: 2020005"
   ]
  },
  {
   "cell_type": "markdown",
   "id": "16152b3f-ccff-42dc-b0e5-b64388706289",
   "metadata": {},
   "source": [
    "### GitHub: https://github.com/ThBrasilDaCosta/CA2-ML-Neural-Semantic"
   ]
  },
  {
   "cell_type": "markdown",
   "id": "7f18fb73-6876-42aa-8af5-c76bc96a347b",
   "metadata": {},
   "source": [
    "### Project: ML - Neural Networks & Semantic Analysis"
   ]
  },
  {
   "cell_type": "markdown",
   "id": "3c5c9df0-5899-4fcf-8387-48ea7db9492b",
   "metadata": {},
   "source": [
    "##### Importing necessary start libraries:"
   ]
  },
  {
   "cell_type": "code",
   "execution_count": 1,
   "id": "ee9b1f6d-1be8-40f5-8a6b-ca65ce0550da",
   "metadata": {},
   "outputs": [],
   "source": [
    "import pandas as pd\n",
    "import numpy as np\n",
    "import matplotlib.pyplot as plt\n",
    "import seaborn as sns"
   ]
  },
  {
   "cell_type": "markdown",
   "id": "6e33fc95-1f7e-4434-a16c-c81df1be1b9c",
   "metadata": {},
   "source": [
    "#### Loading CSV file:"
   ]
  },
  {
   "cell_type": "code",
   "execution_count": 2,
   "id": "f27d4983-765f-45e2-8f20-ab6ed33ed8f5",
   "metadata": {},
   "outputs": [],
   "source": [
    "bank_records = pd.read_csv('BankRecords.csv')"
   ]
  },
  {
   "cell_type": "markdown",
   "id": "7e8202c6-82a5-4d7f-b3a0-9fe1ec6d714a",
   "metadata": {},
   "source": [
    "#### Data Understanding:"
   ]
  },
  {
   "cell_type": "code",
   "execution_count": 3,
   "id": "dcedea12-5387-4392-a7ea-58851ff75384",
   "metadata": {},
   "outputs": [
    {
     "data": {
      "text/plain": [
       "(5000, 14)"
      ]
     },
     "execution_count": 3,
     "metadata": {},
     "output_type": "execute_result"
    }
   ],
   "source": [
    "bank_records.shape"
   ]
  },
  {
   "cell_type": "code",
   "execution_count": 4,
   "id": "92329de4-fc8d-431c-a547-9e6f22b50611",
   "metadata": {},
   "outputs": [
    {
     "data": {
      "text/plain": [
       "ID                         int64\n",
       "Age                        int64\n",
       "Experience(Years)          int64\n",
       "Income(Thousands's)        int64\n",
       "Sort Code                  int64\n",
       "Family                     int64\n",
       "Credit Score             float64\n",
       "Education                 object\n",
       "Mortgage(Thousands's)      int64\n",
       "Personal Loan             object\n",
       "Securities Account        object\n",
       "CD Account                object\n",
       "Online Banking            object\n",
       "CreditCard                object\n",
       "dtype: object"
      ]
     },
     "execution_count": 4,
     "metadata": {},
     "output_type": "execute_result"
    }
   ],
   "source": [
    "bank_records.dtypes"
   ]
  },
  {
   "cell_type": "code",
   "execution_count": 5,
   "id": "c445ae95-bdce-426d-88c3-b0005ff47ef9",
   "metadata": {},
   "outputs": [
    {
     "data": {
      "text/html": [
       "<div>\n",
       "<style scoped>\n",
       "    .dataframe tbody tr th:only-of-type {\n",
       "        vertical-align: middle;\n",
       "    }\n",
       "\n",
       "    .dataframe tbody tr th {\n",
       "        vertical-align: top;\n",
       "    }\n",
       "\n",
       "    .dataframe thead th {\n",
       "        text-align: right;\n",
       "    }\n",
       "</style>\n",
       "<table border=\"1\" class=\"dataframe\">\n",
       "  <thead>\n",
       "    <tr style=\"text-align: right;\">\n",
       "      <th></th>\n",
       "      <th>ID</th>\n",
       "      <th>Age</th>\n",
       "      <th>Experience(Years)</th>\n",
       "      <th>Income(Thousands's)</th>\n",
       "      <th>Sort Code</th>\n",
       "      <th>Family</th>\n",
       "      <th>Credit Score</th>\n",
       "      <th>Mortgage(Thousands's)</th>\n",
       "    </tr>\n",
       "  </thead>\n",
       "  <tbody>\n",
       "    <tr>\n",
       "      <th>count</th>\n",
       "      <td>5000.000000</td>\n",
       "      <td>5000.000000</td>\n",
       "      <td>5000.000000</td>\n",
       "      <td>5000.000000</td>\n",
       "      <td>5000.000000</td>\n",
       "      <td>5000.000000</td>\n",
       "      <td>5000.000000</td>\n",
       "      <td>5000.000000</td>\n",
       "    </tr>\n",
       "    <tr>\n",
       "      <th>mean</th>\n",
       "      <td>2500.500000</td>\n",
       "      <td>45.338400</td>\n",
       "      <td>20.104600</td>\n",
       "      <td>73.774200</td>\n",
       "      <td>93152.503000</td>\n",
       "      <td>2.396400</td>\n",
       "      <td>1.937913</td>\n",
       "      <td>56.498800</td>\n",
       "    </tr>\n",
       "    <tr>\n",
       "      <th>std</th>\n",
       "      <td>1443.520003</td>\n",
       "      <td>11.463166</td>\n",
       "      <td>11.467954</td>\n",
       "      <td>46.033729</td>\n",
       "      <td>2121.852197</td>\n",
       "      <td>1.147663</td>\n",
       "      <td>1.747666</td>\n",
       "      <td>101.713802</td>\n",
       "    </tr>\n",
       "    <tr>\n",
       "      <th>min</th>\n",
       "      <td>1.000000</td>\n",
       "      <td>23.000000</td>\n",
       "      <td>-3.000000</td>\n",
       "      <td>8.000000</td>\n",
       "      <td>9307.000000</td>\n",
       "      <td>1.000000</td>\n",
       "      <td>0.000000</td>\n",
       "      <td>0.000000</td>\n",
       "    </tr>\n",
       "    <tr>\n",
       "      <th>25%</th>\n",
       "      <td>1250.750000</td>\n",
       "      <td>35.000000</td>\n",
       "      <td>10.000000</td>\n",
       "      <td>39.000000</td>\n",
       "      <td>91911.000000</td>\n",
       "      <td>1.000000</td>\n",
       "      <td>0.700000</td>\n",
       "      <td>0.000000</td>\n",
       "    </tr>\n",
       "    <tr>\n",
       "      <th>50%</th>\n",
       "      <td>2500.500000</td>\n",
       "      <td>45.000000</td>\n",
       "      <td>20.000000</td>\n",
       "      <td>64.000000</td>\n",
       "      <td>93437.000000</td>\n",
       "      <td>2.000000</td>\n",
       "      <td>1.500000</td>\n",
       "      <td>0.000000</td>\n",
       "    </tr>\n",
       "    <tr>\n",
       "      <th>75%</th>\n",
       "      <td>3750.250000</td>\n",
       "      <td>55.000000</td>\n",
       "      <td>30.000000</td>\n",
       "      <td>98.000000</td>\n",
       "      <td>94608.000000</td>\n",
       "      <td>3.000000</td>\n",
       "      <td>2.500000</td>\n",
       "      <td>101.000000</td>\n",
       "    </tr>\n",
       "    <tr>\n",
       "      <th>max</th>\n",
       "      <td>5000.000000</td>\n",
       "      <td>67.000000</td>\n",
       "      <td>43.000000</td>\n",
       "      <td>224.000000</td>\n",
       "      <td>96651.000000</td>\n",
       "      <td>4.000000</td>\n",
       "      <td>10.000000</td>\n",
       "      <td>635.000000</td>\n",
       "    </tr>\n",
       "  </tbody>\n",
       "</table>\n",
       "</div>"
      ],
      "text/plain": [
       "                ID          Age  Experience(Years)  Income(Thousands's)  \\\n",
       "count  5000.000000  5000.000000        5000.000000          5000.000000   \n",
       "mean   2500.500000    45.338400          20.104600            73.774200   \n",
       "std    1443.520003    11.463166          11.467954            46.033729   \n",
       "min       1.000000    23.000000          -3.000000             8.000000   \n",
       "25%    1250.750000    35.000000          10.000000            39.000000   \n",
       "50%    2500.500000    45.000000          20.000000            64.000000   \n",
       "75%    3750.250000    55.000000          30.000000            98.000000   \n",
       "max    5000.000000    67.000000          43.000000           224.000000   \n",
       "\n",
       "          Sort Code       Family  Credit Score  Mortgage(Thousands's)  \n",
       "count   5000.000000  5000.000000   5000.000000            5000.000000  \n",
       "mean   93152.503000     2.396400      1.937913              56.498800  \n",
       "std     2121.852197     1.147663      1.747666             101.713802  \n",
       "min     9307.000000     1.000000      0.000000               0.000000  \n",
       "25%    91911.000000     1.000000      0.700000               0.000000  \n",
       "50%    93437.000000     2.000000      1.500000               0.000000  \n",
       "75%    94608.000000     3.000000      2.500000             101.000000  \n",
       "max    96651.000000     4.000000     10.000000             635.000000  "
      ]
     },
     "execution_count": 5,
     "metadata": {},
     "output_type": "execute_result"
    }
   ],
   "source": [
    "bank_records.describe()"
   ]
  },
  {
   "cell_type": "code",
   "execution_count": 6,
   "id": "00eb802f-6514-4b8e-8182-b09d32f757a2",
   "metadata": {},
   "outputs": [
    {
     "data": {
      "text/html": [
       "<div>\n",
       "<style scoped>\n",
       "    .dataframe tbody tr th:only-of-type {\n",
       "        vertical-align: middle;\n",
       "    }\n",
       "\n",
       "    .dataframe tbody tr th {\n",
       "        vertical-align: top;\n",
       "    }\n",
       "\n",
       "    .dataframe thead th {\n",
       "        text-align: right;\n",
       "    }\n",
       "</style>\n",
       "<table border=\"1\" class=\"dataframe\">\n",
       "  <thead>\n",
       "    <tr style=\"text-align: right;\">\n",
       "      <th></th>\n",
       "      <th>ID</th>\n",
       "      <th>Age</th>\n",
       "      <th>Experience(Years)</th>\n",
       "      <th>Income(Thousands's)</th>\n",
       "      <th>Sort Code</th>\n",
       "      <th>Family</th>\n",
       "      <th>Credit Score</th>\n",
       "      <th>Education</th>\n",
       "      <th>Mortgage(Thousands's)</th>\n",
       "      <th>Personal Loan</th>\n",
       "      <th>Securities Account</th>\n",
       "      <th>CD Account</th>\n",
       "      <th>Online Banking</th>\n",
       "      <th>CreditCard</th>\n",
       "    </tr>\n",
       "  </thead>\n",
       "  <tbody>\n",
       "    <tr>\n",
       "      <th>0</th>\n",
       "      <td>1</td>\n",
       "      <td>25</td>\n",
       "      <td>1</td>\n",
       "      <td>49</td>\n",
       "      <td>91107</td>\n",
       "      <td>4</td>\n",
       "      <td>1.6</td>\n",
       "      <td>Diploma</td>\n",
       "      <td>0</td>\n",
       "      <td>No</td>\n",
       "      <td>Yes</td>\n",
       "      <td>No</td>\n",
       "      <td>No</td>\n",
       "      <td>No</td>\n",
       "    </tr>\n",
       "    <tr>\n",
       "      <th>1</th>\n",
       "      <td>2</td>\n",
       "      <td>45</td>\n",
       "      <td>19</td>\n",
       "      <td>34</td>\n",
       "      <td>90089</td>\n",
       "      <td>3</td>\n",
       "      <td>1.5</td>\n",
       "      <td>Diploma</td>\n",
       "      <td>0</td>\n",
       "      <td>No</td>\n",
       "      <td>Yes</td>\n",
       "      <td>No</td>\n",
       "      <td>No</td>\n",
       "      <td>No</td>\n",
       "    </tr>\n",
       "    <tr>\n",
       "      <th>2</th>\n",
       "      <td>3</td>\n",
       "      <td>39</td>\n",
       "      <td>15</td>\n",
       "      <td>11</td>\n",
       "      <td>94720</td>\n",
       "      <td>1</td>\n",
       "      <td>1.0</td>\n",
       "      <td>Diploma</td>\n",
       "      <td>0</td>\n",
       "      <td>No</td>\n",
       "      <td>No</td>\n",
       "      <td>No</td>\n",
       "      <td>No</td>\n",
       "      <td>No</td>\n",
       "    </tr>\n",
       "    <tr>\n",
       "      <th>3</th>\n",
       "      <td>4</td>\n",
       "      <td>35</td>\n",
       "      <td>9</td>\n",
       "      <td>100</td>\n",
       "      <td>94112</td>\n",
       "      <td>1</td>\n",
       "      <td>2.7</td>\n",
       "      <td>Degree</td>\n",
       "      <td>0</td>\n",
       "      <td>No</td>\n",
       "      <td>No</td>\n",
       "      <td>No</td>\n",
       "      <td>No</td>\n",
       "      <td>No</td>\n",
       "    </tr>\n",
       "    <tr>\n",
       "      <th>4</th>\n",
       "      <td>5</td>\n",
       "      <td>35</td>\n",
       "      <td>8</td>\n",
       "      <td>45</td>\n",
       "      <td>91330</td>\n",
       "      <td>4</td>\n",
       "      <td>1.0</td>\n",
       "      <td>Degree</td>\n",
       "      <td>0</td>\n",
       "      <td>No</td>\n",
       "      <td>No</td>\n",
       "      <td>No</td>\n",
       "      <td>No</td>\n",
       "      <td>Yes</td>\n",
       "    </tr>\n",
       "  </tbody>\n",
       "</table>\n",
       "</div>"
      ],
      "text/plain": [
       "   ID  Age  Experience(Years)  Income(Thousands's)  Sort Code  Family  \\\n",
       "0   1   25                  1                   49      91107       4   \n",
       "1   2   45                 19                   34      90089       3   \n",
       "2   3   39                 15                   11      94720       1   \n",
       "3   4   35                  9                  100      94112       1   \n",
       "4   5   35                  8                   45      91330       4   \n",
       "\n",
       "   Credit Score Education  Mortgage(Thousands's) Personal Loan  \\\n",
       "0           1.6   Diploma                      0            No   \n",
       "1           1.5   Diploma                      0            No   \n",
       "2           1.0   Diploma                      0            No   \n",
       "3           2.7    Degree                      0            No   \n",
       "4           1.0    Degree                      0            No   \n",
       "\n",
       "  Securities Account CD Account Online Banking CreditCard  \n",
       "0                Yes         No             No         No  \n",
       "1                Yes         No             No         No  \n",
       "2                 No         No             No         No  \n",
       "3                 No         No             No         No  \n",
       "4                 No         No             No        Yes  "
      ]
     },
     "execution_count": 6,
     "metadata": {},
     "output_type": "execute_result"
    }
   ],
   "source": [
    "bank_records.head()"
   ]
  },
  {
   "cell_type": "code",
   "execution_count": 7,
   "id": "252593ff-1c78-47de-8201-841f5f9aa1e8",
   "metadata": {},
   "outputs": [
    {
     "data": {
      "text/plain": [
       "ID                       0\n",
       "Age                      0\n",
       "Experience(Years)        0\n",
       "Income(Thousands's)      0\n",
       "Sort Code                0\n",
       "Family                   0\n",
       "Credit Score             0\n",
       "Education                0\n",
       "Mortgage(Thousands's)    0\n",
       "Personal Loan            0\n",
       "Securities Account       0\n",
       "CD Account               0\n",
       "Online Banking           0\n",
       "CreditCard               0\n",
       "dtype: int64"
      ]
     },
     "execution_count": 7,
     "metadata": {},
     "output_type": "execute_result"
    }
   ],
   "source": [
    "bank_records.isna().sum()"
   ]
  },
  {
   "cell_type": "code",
   "execution_count": 8,
   "id": "2b9a0b11-48e5-4ede-8fb7-058e757a5112",
   "metadata": {},
   "outputs": [
    {
     "data": {
      "text/html": [
       "<div>\n",
       "<style scoped>\n",
       "    .dataframe tbody tr th:only-of-type {\n",
       "        vertical-align: middle;\n",
       "    }\n",
       "\n",
       "    .dataframe tbody tr th {\n",
       "        vertical-align: top;\n",
       "    }\n",
       "\n",
       "    .dataframe thead th {\n",
       "        text-align: right;\n",
       "    }\n",
       "</style>\n",
       "<table border=\"1\" class=\"dataframe\">\n",
       "  <thead>\n",
       "    <tr style=\"text-align: right;\">\n",
       "      <th></th>\n",
       "      <th>ID</th>\n",
       "      <th>Age</th>\n",
       "      <th>Experience(Years)</th>\n",
       "      <th>Income(Thousands's)</th>\n",
       "      <th>Sort Code</th>\n",
       "      <th>Family</th>\n",
       "      <th>Credit Score</th>\n",
       "      <th>Education</th>\n",
       "      <th>Mortgage(Thousands's)</th>\n",
       "      <th>Personal Loan</th>\n",
       "      <th>Securities Account</th>\n",
       "      <th>CD Account</th>\n",
       "      <th>Online Banking</th>\n",
       "      <th>CreditCard</th>\n",
       "    </tr>\n",
       "  </thead>\n",
       "  <tbody>\n",
       "  </tbody>\n",
       "</table>\n",
       "</div>"
      ],
      "text/plain": [
       "Empty DataFrame\n",
       "Columns: [ID, Age, Experience(Years), Income(Thousands's), Sort Code, Family, Credit Score, Education, Mortgage(Thousands's), Personal Loan, Securities Account, CD Account, Online Banking, CreditCard]\n",
       "Index: []"
      ]
     },
     "execution_count": 8,
     "metadata": {},
     "output_type": "execute_result"
    }
   ],
   "source": [
    "bank_records.loc[bank_records.duplicated()]"
   ]
  },
  {
   "cell_type": "code",
   "execution_count": 9,
   "id": "5c9fcb88-3431-487d-88a2-61f2cf417997",
   "metadata": {},
   "outputs": [
    {
     "data": {
      "text/plain": [
       "Index(['ID', 'Age', 'Experience(Years)', 'Income(Thousands's)', 'Sort Code',\n",
       "       'Family', 'Credit Score', 'Education', 'Mortgage(Thousands's)',\n",
       "       'Personal Loan', 'Securities Account', 'CD Account', 'Online Banking',\n",
       "       'CreditCard'],\n",
       "      dtype='object')"
      ]
     },
     "execution_count": 9,
     "metadata": {},
     "output_type": "execute_result"
    }
   ],
   "source": [
    "bank_records.columns"
   ]
  },
  {
   "cell_type": "markdown",
   "id": "52fc8b76-da7b-43d8-9516-a9429b8d98c9",
   "metadata": {},
   "source": [
    "#### Data Transformation / Feature Engineering:"
   ]
  },
  {
   "cell_type": "code",
   "execution_count": 10,
   "id": "993efbfc-20ae-43ac-ad27-a20918a4a033",
   "metadata": {},
   "outputs": [],
   "source": [
    "bank_records = bank_records.rename(columns={\"Income(Thousands's)\": \"Income(Thousands)\", \"Mortgage(Thousands's)\":\"Mortgage(Thousands)\"})"
   ]
  },
  {
   "cell_type": "code",
   "execution_count": 11,
   "id": "8835df41-4ed9-4373-bc76-16d11f690e92",
   "metadata": {},
   "outputs": [
    {
     "data": {
      "text/plain": [
       "Index(['ID', 'Age', 'Experience(Years)', 'Income(Thousands)', 'Sort Code',\n",
       "       'Family', 'Credit Score', 'Education', 'Mortgage(Thousands)',\n",
       "       'Personal Loan', 'Securities Account', 'CD Account', 'Online Banking',\n",
       "       'CreditCard'],\n",
       "      dtype='object')"
      ]
     },
     "execution_count": 11,
     "metadata": {},
     "output_type": "execute_result"
    }
   ],
   "source": [
    "bank_records.columns"
   ]
  },
  {
   "cell_type": "code",
   "execution_count": 12,
   "id": "f49b9efd-5e6e-4057-9239-2c4eca8fc0e4",
   "metadata": {},
   "outputs": [],
   "source": [
    "bank_records = bank_records.drop(['ID', 'Sort Code',\n",
    "       'Family', 'Credit Score','Mortgage(Thousands)',\n",
    "       'Personal Loan', 'Securities Account', 'CD Account', 'Online Banking',\n",
    "       'CreditCard'], axis = 1).copy()"
   ]
  },
  {
   "cell_type": "code",
   "execution_count": 13,
   "id": "6103cb27-746d-4e6d-bffa-46df9dd6bbf0",
   "metadata": {},
   "outputs": [
    {
     "data": {
      "text/html": [
       "<div>\n",
       "<style scoped>\n",
       "    .dataframe tbody tr th:only-of-type {\n",
       "        vertical-align: middle;\n",
       "    }\n",
       "\n",
       "    .dataframe tbody tr th {\n",
       "        vertical-align: top;\n",
       "    }\n",
       "\n",
       "    .dataframe thead th {\n",
       "        text-align: right;\n",
       "    }\n",
       "</style>\n",
       "<table border=\"1\" class=\"dataframe\">\n",
       "  <thead>\n",
       "    <tr style=\"text-align: right;\">\n",
       "      <th></th>\n",
       "      <th>Age</th>\n",
       "      <th>Experience(Years)</th>\n",
       "      <th>Income(Thousands)</th>\n",
       "      <th>Education</th>\n",
       "    </tr>\n",
       "  </thead>\n",
       "  <tbody>\n",
       "    <tr>\n",
       "      <th>0</th>\n",
       "      <td>25</td>\n",
       "      <td>1</td>\n",
       "      <td>49</td>\n",
       "      <td>Diploma</td>\n",
       "    </tr>\n",
       "    <tr>\n",
       "      <th>1</th>\n",
       "      <td>45</td>\n",
       "      <td>19</td>\n",
       "      <td>34</td>\n",
       "      <td>Diploma</td>\n",
       "    </tr>\n",
       "    <tr>\n",
       "      <th>2</th>\n",
       "      <td>39</td>\n",
       "      <td>15</td>\n",
       "      <td>11</td>\n",
       "      <td>Diploma</td>\n",
       "    </tr>\n",
       "    <tr>\n",
       "      <th>3</th>\n",
       "      <td>35</td>\n",
       "      <td>9</td>\n",
       "      <td>100</td>\n",
       "      <td>Degree</td>\n",
       "    </tr>\n",
       "    <tr>\n",
       "      <th>4</th>\n",
       "      <td>35</td>\n",
       "      <td>8</td>\n",
       "      <td>45</td>\n",
       "      <td>Degree</td>\n",
       "    </tr>\n",
       "    <tr>\n",
       "      <th>...</th>\n",
       "      <td>...</td>\n",
       "      <td>...</td>\n",
       "      <td>...</td>\n",
       "      <td>...</td>\n",
       "    </tr>\n",
       "    <tr>\n",
       "      <th>4995</th>\n",
       "      <td>29</td>\n",
       "      <td>3</td>\n",
       "      <td>40</td>\n",
       "      <td>Masters</td>\n",
       "    </tr>\n",
       "    <tr>\n",
       "      <th>4996</th>\n",
       "      <td>30</td>\n",
       "      <td>4</td>\n",
       "      <td>15</td>\n",
       "      <td>Diploma</td>\n",
       "    </tr>\n",
       "    <tr>\n",
       "      <th>4997</th>\n",
       "      <td>63</td>\n",
       "      <td>39</td>\n",
       "      <td>24</td>\n",
       "      <td>Masters</td>\n",
       "    </tr>\n",
       "    <tr>\n",
       "      <th>4998</th>\n",
       "      <td>65</td>\n",
       "      <td>40</td>\n",
       "      <td>49</td>\n",
       "      <td>Degree</td>\n",
       "    </tr>\n",
       "    <tr>\n",
       "      <th>4999</th>\n",
       "      <td>28</td>\n",
       "      <td>4</td>\n",
       "      <td>83</td>\n",
       "      <td>Diploma</td>\n",
       "    </tr>\n",
       "  </tbody>\n",
       "</table>\n",
       "<p>5000 rows × 4 columns</p>\n",
       "</div>"
      ],
      "text/plain": [
       "      Age  Experience(Years)  Income(Thousands) Education\n",
       "0      25                  1                 49   Diploma\n",
       "1      45                 19                 34   Diploma\n",
       "2      39                 15                 11   Diploma\n",
       "3      35                  9                100    Degree\n",
       "4      35                  8                 45    Degree\n",
       "...   ...                ...                ...       ...\n",
       "4995   29                  3                 40   Masters\n",
       "4996   30                  4                 15   Diploma\n",
       "4997   63                 39                 24   Masters\n",
       "4998   65                 40                 49    Degree\n",
       "4999   28                  4                 83   Diploma\n",
       "\n",
       "[5000 rows x 4 columns]"
      ]
     },
     "execution_count": 13,
     "metadata": {},
     "output_type": "execute_result"
    }
   ],
   "source": [
    "bank_records"
   ]
  },
  {
   "cell_type": "code",
   "execution_count": 14,
   "id": "b104a443-9c23-4de4-8886-d4a227543e7e",
   "metadata": {},
   "outputs": [
    {
     "data": {
      "text/plain": [
       "array(['Diploma', 'Degree', 'Masters'], dtype=object)"
      ]
     },
     "execution_count": 14,
     "metadata": {},
     "output_type": "execute_result"
    }
   ],
   "source": [
    "bank_records['Education'].unique()"
   ]
  },
  {
   "cell_type": "code",
   "execution_count": 15,
   "id": "44b0b31d-7cbc-4ba1-af7f-cad7fa22ddc4",
   "metadata": {},
   "outputs": [],
   "source": [
    "oe = ['Diploma', 'Degree', 'Masters']"
   ]
  },
  {
   "cell_type": "code",
   "execution_count": 16,
   "id": "7a9ab3db-1a94-41c5-98e2-32a7bd1a81e6",
   "metadata": {},
   "outputs": [],
   "source": [
    "from sklearn.preprocessing import OrdinalEncoder"
   ]
  },
  {
   "cell_type": "code",
   "execution_count": 17,
   "id": "446e6d5d-bc3b-4308-85d7-1a97f20442ef",
   "metadata": {},
   "outputs": [],
   "source": [
    "oenc = OrdinalEncoder(categories = [oe])"
   ]
  },
  {
   "cell_type": "code",
   "execution_count": 18,
   "id": "325b1c31-cf85-478f-a152-eb51abd654c1",
   "metadata": {},
   "outputs": [],
   "source": [
    "bank_records['Education'] = oenc.fit_transform(bank_records[['Education']])"
   ]
  },
  {
   "cell_type": "code",
   "execution_count": 19,
   "id": "34566a0a-0f0d-4292-bb6a-afe41fa8be3a",
   "metadata": {},
   "outputs": [
    {
     "data": {
      "text/html": [
       "<div>\n",
       "<style scoped>\n",
       "    .dataframe tbody tr th:only-of-type {\n",
       "        vertical-align: middle;\n",
       "    }\n",
       "\n",
       "    .dataframe tbody tr th {\n",
       "        vertical-align: top;\n",
       "    }\n",
       "\n",
       "    .dataframe thead th {\n",
       "        text-align: right;\n",
       "    }\n",
       "</style>\n",
       "<table border=\"1\" class=\"dataframe\">\n",
       "  <thead>\n",
       "    <tr style=\"text-align: right;\">\n",
       "      <th></th>\n",
       "      <th>Age</th>\n",
       "      <th>Experience(Years)</th>\n",
       "      <th>Income(Thousands)</th>\n",
       "      <th>Education</th>\n",
       "    </tr>\n",
       "  </thead>\n",
       "  <tbody>\n",
       "    <tr>\n",
       "      <th>0</th>\n",
       "      <td>25</td>\n",
       "      <td>1</td>\n",
       "      <td>49</td>\n",
       "      <td>0.0</td>\n",
       "    </tr>\n",
       "    <tr>\n",
       "      <th>1</th>\n",
       "      <td>45</td>\n",
       "      <td>19</td>\n",
       "      <td>34</td>\n",
       "      <td>0.0</td>\n",
       "    </tr>\n",
       "    <tr>\n",
       "      <th>2</th>\n",
       "      <td>39</td>\n",
       "      <td>15</td>\n",
       "      <td>11</td>\n",
       "      <td>0.0</td>\n",
       "    </tr>\n",
       "    <tr>\n",
       "      <th>3</th>\n",
       "      <td>35</td>\n",
       "      <td>9</td>\n",
       "      <td>100</td>\n",
       "      <td>1.0</td>\n",
       "    </tr>\n",
       "    <tr>\n",
       "      <th>4</th>\n",
       "      <td>35</td>\n",
       "      <td>8</td>\n",
       "      <td>45</td>\n",
       "      <td>1.0</td>\n",
       "    </tr>\n",
       "    <tr>\n",
       "      <th>...</th>\n",
       "      <td>...</td>\n",
       "      <td>...</td>\n",
       "      <td>...</td>\n",
       "      <td>...</td>\n",
       "    </tr>\n",
       "    <tr>\n",
       "      <th>4995</th>\n",
       "      <td>29</td>\n",
       "      <td>3</td>\n",
       "      <td>40</td>\n",
       "      <td>2.0</td>\n",
       "    </tr>\n",
       "    <tr>\n",
       "      <th>4996</th>\n",
       "      <td>30</td>\n",
       "      <td>4</td>\n",
       "      <td>15</td>\n",
       "      <td>0.0</td>\n",
       "    </tr>\n",
       "    <tr>\n",
       "      <th>4997</th>\n",
       "      <td>63</td>\n",
       "      <td>39</td>\n",
       "      <td>24</td>\n",
       "      <td>2.0</td>\n",
       "    </tr>\n",
       "    <tr>\n",
       "      <th>4998</th>\n",
       "      <td>65</td>\n",
       "      <td>40</td>\n",
       "      <td>49</td>\n",
       "      <td>1.0</td>\n",
       "    </tr>\n",
       "    <tr>\n",
       "      <th>4999</th>\n",
       "      <td>28</td>\n",
       "      <td>4</td>\n",
       "      <td>83</td>\n",
       "      <td>0.0</td>\n",
       "    </tr>\n",
       "  </tbody>\n",
       "</table>\n",
       "<p>5000 rows × 4 columns</p>\n",
       "</div>"
      ],
      "text/plain": [
       "      Age  Experience(Years)  Income(Thousands)  Education\n",
       "0      25                  1                 49        0.0\n",
       "1      45                 19                 34        0.0\n",
       "2      39                 15                 11        0.0\n",
       "3      35                  9                100        1.0\n",
       "4      35                  8                 45        1.0\n",
       "...   ...                ...                ...        ...\n",
       "4995   29                  3                 40        2.0\n",
       "4996   30                  4                 15        0.0\n",
       "4997   63                 39                 24        2.0\n",
       "4998   65                 40                 49        1.0\n",
       "4999   28                  4                 83        0.0\n",
       "\n",
       "[5000 rows x 4 columns]"
      ]
     },
     "execution_count": 19,
     "metadata": {},
     "output_type": "execute_result"
    }
   ],
   "source": [
    "bank_records"
   ]
  },
  {
   "cell_type": "markdown",
   "id": "34bfbd75-c581-49d8-b395-9de4412489e6",
   "metadata": {},
   "source": [
    "#### Splitting Dataset / Modelling"
   ]
  },
  {
   "cell_type": "markdown",
   "id": "4449269e-d0e6-4711-9bee-87a3cf89fcc7",
   "metadata": {},
   "source": [
    "##### Splitting"
   ]
  },
  {
   "cell_type": "code",
   "execution_count": 22,
   "id": "2bc62815-0ea3-4127-afc1-8d7470b87038",
   "metadata": {},
   "outputs": [],
   "source": [
    "indpt_feat = bank_records.drop('Income(Thousands)', axis = 'columns')\n",
    "dpt_feat = bank_records['Income(Thousands)']\n",
    "\n",
    "X = indpt_feat\n",
    "y = dpt_feat"
   ]
  },
  {
   "cell_type": "code",
   "execution_count": 24,
   "id": "78eabc3a-f442-489f-b029-0c1061db1c73",
   "metadata": {},
   "outputs": [
    {
     "data": {
      "text/html": [
       "<div>\n",
       "<style scoped>\n",
       "    .dataframe tbody tr th:only-of-type {\n",
       "        vertical-align: middle;\n",
       "    }\n",
       "\n",
       "    .dataframe tbody tr th {\n",
       "        vertical-align: top;\n",
       "    }\n",
       "\n",
       "    .dataframe thead th {\n",
       "        text-align: right;\n",
       "    }\n",
       "</style>\n",
       "<table border=\"1\" class=\"dataframe\">\n",
       "  <thead>\n",
       "    <tr style=\"text-align: right;\">\n",
       "      <th></th>\n",
       "      <th>Age</th>\n",
       "      <th>Experience(Years)</th>\n",
       "      <th>Education</th>\n",
       "    </tr>\n",
       "  </thead>\n",
       "  <tbody>\n",
       "    <tr>\n",
       "      <th>0</th>\n",
       "      <td>25</td>\n",
       "      <td>1</td>\n",
       "      <td>0.0</td>\n",
       "    </tr>\n",
       "    <tr>\n",
       "      <th>1</th>\n",
       "      <td>45</td>\n",
       "      <td>19</td>\n",
       "      <td>0.0</td>\n",
       "    </tr>\n",
       "    <tr>\n",
       "      <th>2</th>\n",
       "      <td>39</td>\n",
       "      <td>15</td>\n",
       "      <td>0.0</td>\n",
       "    </tr>\n",
       "    <tr>\n",
       "      <th>3</th>\n",
       "      <td>35</td>\n",
       "      <td>9</td>\n",
       "      <td>1.0</td>\n",
       "    </tr>\n",
       "    <tr>\n",
       "      <th>4</th>\n",
       "      <td>35</td>\n",
       "      <td>8</td>\n",
       "      <td>1.0</td>\n",
       "    </tr>\n",
       "    <tr>\n",
       "      <th>...</th>\n",
       "      <td>...</td>\n",
       "      <td>...</td>\n",
       "      <td>...</td>\n",
       "    </tr>\n",
       "    <tr>\n",
       "      <th>4995</th>\n",
       "      <td>29</td>\n",
       "      <td>3</td>\n",
       "      <td>2.0</td>\n",
       "    </tr>\n",
       "    <tr>\n",
       "      <th>4996</th>\n",
       "      <td>30</td>\n",
       "      <td>4</td>\n",
       "      <td>0.0</td>\n",
       "    </tr>\n",
       "    <tr>\n",
       "      <th>4997</th>\n",
       "      <td>63</td>\n",
       "      <td>39</td>\n",
       "      <td>2.0</td>\n",
       "    </tr>\n",
       "    <tr>\n",
       "      <th>4998</th>\n",
       "      <td>65</td>\n",
       "      <td>40</td>\n",
       "      <td>1.0</td>\n",
       "    </tr>\n",
       "    <tr>\n",
       "      <th>4999</th>\n",
       "      <td>28</td>\n",
       "      <td>4</td>\n",
       "      <td>0.0</td>\n",
       "    </tr>\n",
       "  </tbody>\n",
       "</table>\n",
       "<p>5000 rows × 3 columns</p>\n",
       "</div>"
      ],
      "text/plain": [
       "      Age  Experience(Years)  Education\n",
       "0      25                  1        0.0\n",
       "1      45                 19        0.0\n",
       "2      39                 15        0.0\n",
       "3      35                  9        1.0\n",
       "4      35                  8        1.0\n",
       "...   ...                ...        ...\n",
       "4995   29                  3        2.0\n",
       "4996   30                  4        0.0\n",
       "4997   63                 39        2.0\n",
       "4998   65                 40        1.0\n",
       "4999   28                  4        0.0\n",
       "\n",
       "[5000 rows x 3 columns]"
      ]
     },
     "execution_count": 24,
     "metadata": {},
     "output_type": "execute_result"
    }
   ],
   "source": [
    "X"
   ]
  },
  {
   "cell_type": "code",
   "execution_count": 25,
   "id": "b31cb191-40e5-4df1-ba86-14535c97ded2",
   "metadata": {},
   "outputs": [
    {
     "data": {
      "text/plain": [
       "0        49\n",
       "1        34\n",
       "2        11\n",
       "3       100\n",
       "4        45\n",
       "       ... \n",
       "4995     40\n",
       "4996     15\n",
       "4997     24\n",
       "4998     49\n",
       "4999     83\n",
       "Name: Income(Thousands), Length: 5000, dtype: int64"
      ]
     },
     "execution_count": 25,
     "metadata": {},
     "output_type": "execute_result"
    }
   ],
   "source": [
    "y"
   ]
  },
  {
   "cell_type": "code",
   "execution_count": 26,
   "id": "d4aecd52-97fb-4bc5-91f9-967a6ccab09d",
   "metadata": {},
   "outputs": [],
   "source": [
    "from sklearn.model_selection import train_test_split"
   ]
  },
  {
   "cell_type": "code",
   "execution_count": 27,
   "id": "8b0c4a02-9656-4a33-886c-256f92323a34",
   "metadata": {},
   "outputs": [],
   "source": [
    "X_train, X_test, y_train, y_test = train_test_split(X,y, random_state=17, test_size=0.2)"
   ]
  },
  {
   "cell_type": "code",
   "execution_count": 28,
   "id": "204c1ea8-8554-436c-bd6a-e5049dce3363",
   "metadata": {},
   "outputs": [
    {
     "data": {
      "text/plain": [
       "(4000, 3)"
      ]
     },
     "execution_count": 28,
     "metadata": {},
     "output_type": "execute_result"
    }
   ],
   "source": [
    "X_train.shape"
   ]
  },
  {
   "cell_type": "code",
   "execution_count": 29,
   "id": "b6a89b36-a003-4dc5-b768-425081003f30",
   "metadata": {},
   "outputs": [
    {
     "data": {
      "text/plain": [
       "(1000, 3)"
      ]
     },
     "execution_count": 29,
     "metadata": {},
     "output_type": "execute_result"
    }
   ],
   "source": [
    "X_test.shape"
   ]
  },
  {
   "cell_type": "code",
   "execution_count": 30,
   "id": "65ae674b-7cc3-4d83-8174-79d7b2c738cc",
   "metadata": {},
   "outputs": [
    {
     "data": {
      "text/plain": [
       "(4000,)"
      ]
     },
     "execution_count": 30,
     "metadata": {},
     "output_type": "execute_result"
    }
   ],
   "source": [
    "y_train.shape"
   ]
  },
  {
   "cell_type": "code",
   "execution_count": 31,
   "id": "6862be59-7aba-424b-8812-eef09915c602",
   "metadata": {},
   "outputs": [
    {
     "data": {
      "text/plain": [
       "1926     41\n",
       "805     132\n",
       "1674    139\n",
       "81       40\n",
       "2266    143\n",
       "       ... \n",
       "2800     28\n",
       "1337    179\n",
       "406     125\n",
       "2191    171\n",
       "2671    128\n",
       "Name: Income(Thousands), Length: 4000, dtype: int64"
      ]
     },
     "execution_count": 31,
     "metadata": {},
     "output_type": "execute_result"
    }
   ],
   "source": [
    "y_test.shape"
   ]
  },
  {
   "cell_type": "code",
   "execution_count": null,
   "id": "a5f407b8-fc13-410f-a2a4-44dd58208103",
   "metadata": {},
   "outputs": [],
   "source": []
  }
 ],
 "metadata": {
  "kernelspec": {
   "display_name": "Python 3 (ipykernel)",
   "language": "python",
   "name": "python3"
  },
  "language_info": {
   "codemirror_mode": {
    "name": "ipython",
    "version": 3
   },
   "file_extension": ".py",
   "mimetype": "text/x-python",
   "name": "python",
   "nbconvert_exporter": "python",
   "pygments_lexer": "ipython3",
   "version": "3.11.7"
  }
 },
 "nbformat": 4,
 "nbformat_minor": 5
}
