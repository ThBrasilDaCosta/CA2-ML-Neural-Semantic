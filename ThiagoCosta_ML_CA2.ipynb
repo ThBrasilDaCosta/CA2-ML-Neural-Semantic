{
 "cells": [
  {
   "cell_type": "markdown",
   "id": "be537e01-c028-4dc6-b59e-205b4a6440b4",
   "metadata": {},
   "source": [
    "# Name: Thiago de Oliveira da Costa StId: 2020005"
   ]
  },
  {
   "cell_type": "markdown",
   "id": "16152b3f-ccff-42dc-b0e5-b64388706289",
   "metadata": {},
   "source": [
    "### GitHub: https://github.com/ThBrasilDaCosta/CA2-ML-Neural-Semantic"
   ]
  },
  {
   "cell_type": "markdown",
   "id": "7f18fb73-6876-42aa-8af5-c76bc96a347b",
   "metadata": {},
   "source": [
    "### Project: ML - Neural Networks & Semantic Analysis"
   ]
  },
  {
   "cell_type": "markdown",
   "id": "3c5c9df0-5899-4fcf-8387-48ea7db9492b",
   "metadata": {},
   "source": [
    "##### Importing necessary start libraries:"
   ]
  },
  {
   "cell_type": "code",
   "execution_count": 2,
   "id": "ee9b1f6d-1be8-40f5-8a6b-ca65ce0550da",
   "metadata": {},
   "outputs": [],
   "source": [
    "import pandas as pd\n",
    "import numpy as np\n",
    "import matplotlib.pyplot as plt\n",
    "import seaborn as sns"
   ]
  },
  {
   "cell_type": "markdown",
   "id": "6e33fc95-1f7e-4434-a16c-c81df1be1b9c",
   "metadata": {},
   "source": [
    "##### Loading CSV file:"
   ]
  },
  {
   "cell_type": "code",
   "execution_count": 4,
   "id": "f27d4983-765f-45e2-8f20-ab6ed33ed8f5",
   "metadata": {},
   "outputs": [],
   "source": [
    "bank_records = pd.read_csv('BankRecords.csv')"
   ]
  },
  {
   "cell_type": "code",
   "execution_count": null,
   "id": "dcedea12-5387-4392-a7ea-58851ff75384",
   "metadata": {},
   "outputs": [],
   "source": []
  }
 ],
 "metadata": {
  "kernelspec": {
   "display_name": "Python 3 (ipykernel)",
   "language": "python",
   "name": "python3"
  },
  "language_info": {
   "codemirror_mode": {
    "name": "ipython",
    "version": 3
   },
   "file_extension": ".py",
   "mimetype": "text/x-python",
   "name": "python",
   "nbconvert_exporter": "python",
   "pygments_lexer": "ipython3",
   "version": "3.11.7"
  }
 },
 "nbformat": 4,
 "nbformat_minor": 5
}
